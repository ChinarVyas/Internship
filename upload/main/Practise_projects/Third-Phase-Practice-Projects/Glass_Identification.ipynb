{
  "nbformat": 4,
  "nbformat_minor": 0,
  "metadata": {
    "colab": {
      "provenance": [],
      "mount_file_id": "19QcEf8Pm0JpKISLjCCEaPCPrpyDK_z7i",
      "authorship_tag": "ABX9TyOLnLG3bkb6qdTy0l52czGG",
      "include_colab_link": true
    },
    "kernelspec": {
      "name": "python3",
      "display_name": "Python 3"
    },
    "language_info": {
      "name": "python"
    }
  },
  "cells": [
    {
      "cell_type": "markdown",
      "metadata": {
        "id": "view-in-github",
        "colab_type": "text"
      },
      "source": [
        "<a href=\"https://colab.research.google.com/github/ChinarVyas/Internship/blob/main/upload/main/Practise_projects/Third-Phase-Practice-Projects/Glass_Identification.ipynb\" target=\"_parent\"><img src=\"https://colab.research.google.com/assets/colab-badge.svg\" alt=\"Open In Colab\"/></a>"
      ]
    },
    {
      "cell_type": "code",
      "execution_count": 1,
      "metadata": {
        "id": "TNHy-NcDZkii"
      },
      "outputs": [],
      "source": [
        "import pandas as pd\n",
        "import numpy as np\n",
        "import matplotlib.pyplot as plt\n",
        "import matplotlib_inline\n",
        "import warnings\n",
        "warnings.filterwarnings('ignore')\n",
        "import seaborn as sns\n",
        "from sklearn.ensemble import RandomForestClassifier, ExtraTreesClassifier\n",
        "from sklearn.ensemble import GradientBoostingClassifier,AdaBoostClassifier, BaggingClassifier\n",
        "from sklearn.metrics import classification_report,accuracy_score,roc_curve,confusion_matrix\n",
        "from sklearn.linear_model import LogisticRegression\n",
        "from sklearn.svm import SVC\n",
        "from sklearn.model_selection import train_test_split, cross_val_score"
      ]
    },
    {
      "cell_type": "code",
      "source": [
        "gi = pd.read_csv('/content/drive/MyDrive/Data Analysis/Data/Glass Identification.csv',\n",
        "                 names=['Id','refractive_index','sodium','magnesium','aluminum','silicon','potassium','calcium','barium','iron','glass_type'], index_col='Id')\n",
        "gi"
      ],
      "metadata": {
        "colab": {
          "base_uri": "https://localhost:8080/",
          "height": 455
        },
        "id": "_KeOOOGJZtTb",
        "outputId": "4da4aa9e-745e-442c-f594-9e0fdb4caeeb"
      },
      "execution_count": 3,
      "outputs": [
        {
          "output_type": "execute_result",
          "data": {
            "text/plain": [
              "     refractive_index  sodium  magnesium  aluminum  silicon  potassium  \\\n",
              "Id                                                                       \n",
              "1             1.52101   13.64       4.49      1.10    71.78       0.06   \n",
              "2             1.51761   13.89       3.60      1.36    72.73       0.48   \n",
              "3             1.51618   13.53       3.55      1.54    72.99       0.39   \n",
              "4             1.51766   13.21       3.69      1.29    72.61       0.57   \n",
              "5             1.51742   13.27       3.62      1.24    73.08       0.55   \n",
              "..                ...     ...        ...       ...      ...        ...   \n",
              "210           1.51623   14.14       0.00      2.88    72.61       0.08   \n",
              "211           1.51685   14.92       0.00      1.99    73.06       0.00   \n",
              "212           1.52065   14.36       0.00      2.02    73.42       0.00   \n",
              "213           1.51651   14.38       0.00      1.94    73.61       0.00   \n",
              "214           1.51711   14.23       0.00      2.08    73.36       0.00   \n",
              "\n",
              "     calcium  barium  iron  glass_type  \n",
              "Id                                      \n",
              "1       8.75    0.00   0.0           1  \n",
              "2       7.83    0.00   0.0           1  \n",
              "3       7.78    0.00   0.0           1  \n",
              "4       8.22    0.00   0.0           1  \n",
              "5       8.07    0.00   0.0           1  \n",
              "..       ...     ...   ...         ...  \n",
              "210     9.18    1.06   0.0           7  \n",
              "211     8.40    1.59   0.0           7  \n",
              "212     8.44    1.64   0.0           7  \n",
              "213     8.48    1.57   0.0           7  \n",
              "214     8.62    1.67   0.0           7  \n",
              "\n",
              "[214 rows x 10 columns]"
            ],
            "text/html": [
              "\n",
              "  <div id=\"df-216b6a49-0754-4586-8eab-99cb9ca6459a\" class=\"colab-df-container\">\n",
              "    <div>\n",
              "<style scoped>\n",
              "    .dataframe tbody tr th:only-of-type {\n",
              "        vertical-align: middle;\n",
              "    }\n",
              "\n",
              "    .dataframe tbody tr th {\n",
              "        vertical-align: top;\n",
              "    }\n",
              "\n",
              "    .dataframe thead th {\n",
              "        text-align: right;\n",
              "    }\n",
              "</style>\n",
              "<table border=\"1\" class=\"dataframe\">\n",
              "  <thead>\n",
              "    <tr style=\"text-align: right;\">\n",
              "      <th></th>\n",
              "      <th>refractive_index</th>\n",
              "      <th>sodium</th>\n",
              "      <th>magnesium</th>\n",
              "      <th>aluminum</th>\n",
              "      <th>silicon</th>\n",
              "      <th>potassium</th>\n",
              "      <th>calcium</th>\n",
              "      <th>barium</th>\n",
              "      <th>iron</th>\n",
              "      <th>glass_type</th>\n",
              "    </tr>\n",
              "    <tr>\n",
              "      <th>Id</th>\n",
              "      <th></th>\n",
              "      <th></th>\n",
              "      <th></th>\n",
              "      <th></th>\n",
              "      <th></th>\n",
              "      <th></th>\n",
              "      <th></th>\n",
              "      <th></th>\n",
              "      <th></th>\n",
              "      <th></th>\n",
              "    </tr>\n",
              "  </thead>\n",
              "  <tbody>\n",
              "    <tr>\n",
              "      <th>1</th>\n",
              "      <td>1.52101</td>\n",
              "      <td>13.64</td>\n",
              "      <td>4.49</td>\n",
              "      <td>1.10</td>\n",
              "      <td>71.78</td>\n",
              "      <td>0.06</td>\n",
              "      <td>8.75</td>\n",
              "      <td>0.00</td>\n",
              "      <td>0.0</td>\n",
              "      <td>1</td>\n",
              "    </tr>\n",
              "    <tr>\n",
              "      <th>2</th>\n",
              "      <td>1.51761</td>\n",
              "      <td>13.89</td>\n",
              "      <td>3.60</td>\n",
              "      <td>1.36</td>\n",
              "      <td>72.73</td>\n",
              "      <td>0.48</td>\n",
              "      <td>7.83</td>\n",
              "      <td>0.00</td>\n",
              "      <td>0.0</td>\n",
              "      <td>1</td>\n",
              "    </tr>\n",
              "    <tr>\n",
              "      <th>3</th>\n",
              "      <td>1.51618</td>\n",
              "      <td>13.53</td>\n",
              "      <td>3.55</td>\n",
              "      <td>1.54</td>\n",
              "      <td>72.99</td>\n",
              "      <td>0.39</td>\n",
              "      <td>7.78</td>\n",
              "      <td>0.00</td>\n",
              "      <td>0.0</td>\n",
              "      <td>1</td>\n",
              "    </tr>\n",
              "    <tr>\n",
              "      <th>4</th>\n",
              "      <td>1.51766</td>\n",
              "      <td>13.21</td>\n",
              "      <td>3.69</td>\n",
              "      <td>1.29</td>\n",
              "      <td>72.61</td>\n",
              "      <td>0.57</td>\n",
              "      <td>8.22</td>\n",
              "      <td>0.00</td>\n",
              "      <td>0.0</td>\n",
              "      <td>1</td>\n",
              "    </tr>\n",
              "    <tr>\n",
              "      <th>5</th>\n",
              "      <td>1.51742</td>\n",
              "      <td>13.27</td>\n",
              "      <td>3.62</td>\n",
              "      <td>1.24</td>\n",
              "      <td>73.08</td>\n",
              "      <td>0.55</td>\n",
              "      <td>8.07</td>\n",
              "      <td>0.00</td>\n",
              "      <td>0.0</td>\n",
              "      <td>1</td>\n",
              "    </tr>\n",
              "    <tr>\n",
              "      <th>...</th>\n",
              "      <td>...</td>\n",
              "      <td>...</td>\n",
              "      <td>...</td>\n",
              "      <td>...</td>\n",
              "      <td>...</td>\n",
              "      <td>...</td>\n",
              "      <td>...</td>\n",
              "      <td>...</td>\n",
              "      <td>...</td>\n",
              "      <td>...</td>\n",
              "    </tr>\n",
              "    <tr>\n",
              "      <th>210</th>\n",
              "      <td>1.51623</td>\n",
              "      <td>14.14</td>\n",
              "      <td>0.00</td>\n",
              "      <td>2.88</td>\n",
              "      <td>72.61</td>\n",
              "      <td>0.08</td>\n",
              "      <td>9.18</td>\n",
              "      <td>1.06</td>\n",
              "      <td>0.0</td>\n",
              "      <td>7</td>\n",
              "    </tr>\n",
              "    <tr>\n",
              "      <th>211</th>\n",
              "      <td>1.51685</td>\n",
              "      <td>14.92</td>\n",
              "      <td>0.00</td>\n",
              "      <td>1.99</td>\n",
              "      <td>73.06</td>\n",
              "      <td>0.00</td>\n",
              "      <td>8.40</td>\n",
              "      <td>1.59</td>\n",
              "      <td>0.0</td>\n",
              "      <td>7</td>\n",
              "    </tr>\n",
              "    <tr>\n",
              "      <th>212</th>\n",
              "      <td>1.52065</td>\n",
              "      <td>14.36</td>\n",
              "      <td>0.00</td>\n",
              "      <td>2.02</td>\n",
              "      <td>73.42</td>\n",
              "      <td>0.00</td>\n",
              "      <td>8.44</td>\n",
              "      <td>1.64</td>\n",
              "      <td>0.0</td>\n",
              "      <td>7</td>\n",
              "    </tr>\n",
              "    <tr>\n",
              "      <th>213</th>\n",
              "      <td>1.51651</td>\n",
              "      <td>14.38</td>\n",
              "      <td>0.00</td>\n",
              "      <td>1.94</td>\n",
              "      <td>73.61</td>\n",
              "      <td>0.00</td>\n",
              "      <td>8.48</td>\n",
              "      <td>1.57</td>\n",
              "      <td>0.0</td>\n",
              "      <td>7</td>\n",
              "    </tr>\n",
              "    <tr>\n",
              "      <th>214</th>\n",
              "      <td>1.51711</td>\n",
              "      <td>14.23</td>\n",
              "      <td>0.00</td>\n",
              "      <td>2.08</td>\n",
              "      <td>73.36</td>\n",
              "      <td>0.00</td>\n",
              "      <td>8.62</td>\n",
              "      <td>1.67</td>\n",
              "      <td>0.0</td>\n",
              "      <td>7</td>\n",
              "    </tr>\n",
              "  </tbody>\n",
              "</table>\n",
              "<p>214 rows × 10 columns</p>\n",
              "</div>\n",
              "    <div class=\"colab-df-buttons\">\n",
              "\n",
              "  <div class=\"colab-df-container\">\n",
              "    <button class=\"colab-df-convert\" onclick=\"convertToInteractive('df-216b6a49-0754-4586-8eab-99cb9ca6459a')\"\n",
              "            title=\"Convert this dataframe to an interactive table.\"\n",
              "            style=\"display:none;\">\n",
              "\n",
              "  <svg xmlns=\"http://www.w3.org/2000/svg\" height=\"24px\" viewBox=\"0 -960 960 960\">\n",
              "    <path d=\"M120-120v-720h720v720H120Zm60-500h600v-160H180v160Zm220 220h160v-160H400v160Zm0 220h160v-160H400v160ZM180-400h160v-160H180v160Zm440 0h160v-160H620v160ZM180-180h160v-160H180v160Zm440 0h160v-160H620v160Z\"/>\n",
              "  </svg>\n",
              "    </button>\n",
              "\n",
              "  <style>\n",
              "    .colab-df-container {\n",
              "      display:flex;\n",
              "      gap: 12px;\n",
              "    }\n",
              "\n",
              "    .colab-df-convert {\n",
              "      background-color: #E8F0FE;\n",
              "      border: none;\n",
              "      border-radius: 50%;\n",
              "      cursor: pointer;\n",
              "      display: none;\n",
              "      fill: #1967D2;\n",
              "      height: 32px;\n",
              "      padding: 0 0 0 0;\n",
              "      width: 32px;\n",
              "    }\n",
              "\n",
              "    .colab-df-convert:hover {\n",
              "      background-color: #E2EBFA;\n",
              "      box-shadow: 0px 1px 2px rgba(60, 64, 67, 0.3), 0px 1px 3px 1px rgba(60, 64, 67, 0.15);\n",
              "      fill: #174EA6;\n",
              "    }\n",
              "\n",
              "    .colab-df-buttons div {\n",
              "      margin-bottom: 4px;\n",
              "    }\n",
              "\n",
              "    [theme=dark] .colab-df-convert {\n",
              "      background-color: #3B4455;\n",
              "      fill: #D2E3FC;\n",
              "    }\n",
              "\n",
              "    [theme=dark] .colab-df-convert:hover {\n",
              "      background-color: #434B5C;\n",
              "      box-shadow: 0px 1px 3px 1px rgba(0, 0, 0, 0.15);\n",
              "      filter: drop-shadow(0px 1px 2px rgba(0, 0, 0, 0.3));\n",
              "      fill: #FFFFFF;\n",
              "    }\n",
              "  </style>\n",
              "\n",
              "    <script>\n",
              "      const buttonEl =\n",
              "        document.querySelector('#df-216b6a49-0754-4586-8eab-99cb9ca6459a button.colab-df-convert');\n",
              "      buttonEl.style.display =\n",
              "        google.colab.kernel.accessAllowed ? 'block' : 'none';\n",
              "\n",
              "      async function convertToInteractive(key) {\n",
              "        const element = document.querySelector('#df-216b6a49-0754-4586-8eab-99cb9ca6459a');\n",
              "        const dataTable =\n",
              "          await google.colab.kernel.invokeFunction('convertToInteractive',\n",
              "                                                    [key], {});\n",
              "        if (!dataTable) return;\n",
              "\n",
              "        const docLinkHtml = 'Like what you see? Visit the ' +\n",
              "          '<a target=\"_blank\" href=https://colab.research.google.com/notebooks/data_table.ipynb>data table notebook</a>'\n",
              "          + ' to learn more about interactive tables.';\n",
              "        element.innerHTML = '';\n",
              "        dataTable['output_type'] = 'display_data';\n",
              "        await google.colab.output.renderOutput(dataTable, element);\n",
              "        const docLink = document.createElement('div');\n",
              "        docLink.innerHTML = docLinkHtml;\n",
              "        element.appendChild(docLink);\n",
              "      }\n",
              "    </script>\n",
              "  </div>\n",
              "\n",
              "\n",
              "<div id=\"df-f868027b-0b85-4a1e-a13e-b10bbaa17ba9\">\n",
              "  <button class=\"colab-df-quickchart\" onclick=\"quickchart('df-f868027b-0b85-4a1e-a13e-b10bbaa17ba9')\"\n",
              "            title=\"Suggest charts\"\n",
              "            style=\"display:none;\">\n",
              "\n",
              "<svg xmlns=\"http://www.w3.org/2000/svg\" height=\"24px\"viewBox=\"0 0 24 24\"\n",
              "     width=\"24px\">\n",
              "    <g>\n",
              "        <path d=\"M19 3H5c-1.1 0-2 .9-2 2v14c0 1.1.9 2 2 2h14c1.1 0 2-.9 2-2V5c0-1.1-.9-2-2-2zM9 17H7v-7h2v7zm4 0h-2V7h2v10zm4 0h-2v-4h2v4z\"/>\n",
              "    </g>\n",
              "</svg>\n",
              "  </button>\n",
              "\n",
              "<style>\n",
              "  .colab-df-quickchart {\n",
              "      --bg-color: #E8F0FE;\n",
              "      --fill-color: #1967D2;\n",
              "      --hover-bg-color: #E2EBFA;\n",
              "      --hover-fill-color: #174EA6;\n",
              "      --disabled-fill-color: #AAA;\n",
              "      --disabled-bg-color: #DDD;\n",
              "  }\n",
              "\n",
              "  [theme=dark] .colab-df-quickchart {\n",
              "      --bg-color: #3B4455;\n",
              "      --fill-color: #D2E3FC;\n",
              "      --hover-bg-color: #434B5C;\n",
              "      --hover-fill-color: #FFFFFF;\n",
              "      --disabled-bg-color: #3B4455;\n",
              "      --disabled-fill-color: #666;\n",
              "  }\n",
              "\n",
              "  .colab-df-quickchart {\n",
              "    background-color: var(--bg-color);\n",
              "    border: none;\n",
              "    border-radius: 50%;\n",
              "    cursor: pointer;\n",
              "    display: none;\n",
              "    fill: var(--fill-color);\n",
              "    height: 32px;\n",
              "    padding: 0;\n",
              "    width: 32px;\n",
              "  }\n",
              "\n",
              "  .colab-df-quickchart:hover {\n",
              "    background-color: var(--hover-bg-color);\n",
              "    box-shadow: 0 1px 2px rgba(60, 64, 67, 0.3), 0 1px 3px 1px rgba(60, 64, 67, 0.15);\n",
              "    fill: var(--button-hover-fill-color);\n",
              "  }\n",
              "\n",
              "  .colab-df-quickchart-complete:disabled,\n",
              "  .colab-df-quickchart-complete:disabled:hover {\n",
              "    background-color: var(--disabled-bg-color);\n",
              "    fill: var(--disabled-fill-color);\n",
              "    box-shadow: none;\n",
              "  }\n",
              "\n",
              "  .colab-df-spinner {\n",
              "    border: 2px solid var(--fill-color);\n",
              "    border-color: transparent;\n",
              "    border-bottom-color: var(--fill-color);\n",
              "    animation:\n",
              "      spin 1s steps(1) infinite;\n",
              "  }\n",
              "\n",
              "  @keyframes spin {\n",
              "    0% {\n",
              "      border-color: transparent;\n",
              "      border-bottom-color: var(--fill-color);\n",
              "      border-left-color: var(--fill-color);\n",
              "    }\n",
              "    20% {\n",
              "      border-color: transparent;\n",
              "      border-left-color: var(--fill-color);\n",
              "      border-top-color: var(--fill-color);\n",
              "    }\n",
              "    30% {\n",
              "      border-color: transparent;\n",
              "      border-left-color: var(--fill-color);\n",
              "      border-top-color: var(--fill-color);\n",
              "      border-right-color: var(--fill-color);\n",
              "    }\n",
              "    40% {\n",
              "      border-color: transparent;\n",
              "      border-right-color: var(--fill-color);\n",
              "      border-top-color: var(--fill-color);\n",
              "    }\n",
              "    60% {\n",
              "      border-color: transparent;\n",
              "      border-right-color: var(--fill-color);\n",
              "    }\n",
              "    80% {\n",
              "      border-color: transparent;\n",
              "      border-right-color: var(--fill-color);\n",
              "      border-bottom-color: var(--fill-color);\n",
              "    }\n",
              "    90% {\n",
              "      border-color: transparent;\n",
              "      border-bottom-color: var(--fill-color);\n",
              "    }\n",
              "  }\n",
              "</style>\n",
              "\n",
              "  <script>\n",
              "    async function quickchart(key) {\n",
              "      const quickchartButtonEl =\n",
              "        document.querySelector('#' + key + ' button');\n",
              "      quickchartButtonEl.disabled = true;  // To prevent multiple clicks.\n",
              "      quickchartButtonEl.classList.add('colab-df-spinner');\n",
              "      try {\n",
              "        const charts = await google.colab.kernel.invokeFunction(\n",
              "            'suggestCharts', [key], {});\n",
              "      } catch (error) {\n",
              "        console.error('Error during call to suggestCharts:', error);\n",
              "      }\n",
              "      quickchartButtonEl.classList.remove('colab-df-spinner');\n",
              "      quickchartButtonEl.classList.add('colab-df-quickchart-complete');\n",
              "    }\n",
              "    (() => {\n",
              "      let quickchartButtonEl =\n",
              "        document.querySelector('#df-f868027b-0b85-4a1e-a13e-b10bbaa17ba9 button');\n",
              "      quickchartButtonEl.style.display =\n",
              "        google.colab.kernel.accessAllowed ? 'block' : 'none';\n",
              "    })();\n",
              "  </script>\n",
              "</div>\n",
              "\n",
              "  <div id=\"id_3c706e17-9aa2-4faa-aefc-de059dc10602\">\n",
              "    <style>\n",
              "      .colab-df-generate {\n",
              "        background-color: #E8F0FE;\n",
              "        border: none;\n",
              "        border-radius: 50%;\n",
              "        cursor: pointer;\n",
              "        display: none;\n",
              "        fill: #1967D2;\n",
              "        height: 32px;\n",
              "        padding: 0 0 0 0;\n",
              "        width: 32px;\n",
              "      }\n",
              "\n",
              "      .colab-df-generate:hover {\n",
              "        background-color: #E2EBFA;\n",
              "        box-shadow: 0px 1px 2px rgba(60, 64, 67, 0.3), 0px 1px 3px 1px rgba(60, 64, 67, 0.15);\n",
              "        fill: #174EA6;\n",
              "      }\n",
              "\n",
              "      [theme=dark] .colab-df-generate {\n",
              "        background-color: #3B4455;\n",
              "        fill: #D2E3FC;\n",
              "      }\n",
              "\n",
              "      [theme=dark] .colab-df-generate:hover {\n",
              "        background-color: #434B5C;\n",
              "        box-shadow: 0px 1px 3px 1px rgba(0, 0, 0, 0.15);\n",
              "        filter: drop-shadow(0px 1px 2px rgba(0, 0, 0, 0.3));\n",
              "        fill: #FFFFFF;\n",
              "      }\n",
              "    </style>\n",
              "    <button class=\"colab-df-generate\" onclick=\"generateWithVariable('gi')\"\n",
              "            title=\"Generate code using this dataframe.\"\n",
              "            style=\"display:none;\">\n",
              "\n",
              "  <svg xmlns=\"http://www.w3.org/2000/svg\" height=\"24px\"viewBox=\"0 0 24 24\"\n",
              "       width=\"24px\">\n",
              "    <path d=\"M7,19H8.4L18.45,9,17,7.55,7,17.6ZM5,21V16.75L18.45,3.32a2,2,0,0,1,2.83,0l1.4,1.43a1.91,1.91,0,0,1,.58,1.4,1.91,1.91,0,0,1-.58,1.4L9.25,21ZM18.45,9,17,7.55Zm-12,3A5.31,5.31,0,0,0,4.9,8.1,5.31,5.31,0,0,0,1,6.5,5.31,5.31,0,0,0,4.9,4.9,5.31,5.31,0,0,0,6.5,1,5.31,5.31,0,0,0,8.1,4.9,5.31,5.31,0,0,0,12,6.5,5.46,5.46,0,0,0,6.5,12Z\"/>\n",
              "  </svg>\n",
              "    </button>\n",
              "    <script>\n",
              "      (() => {\n",
              "      const buttonEl =\n",
              "        document.querySelector('#id_3c706e17-9aa2-4faa-aefc-de059dc10602 button.colab-df-generate');\n",
              "      buttonEl.style.display =\n",
              "        google.colab.kernel.accessAllowed ? 'block' : 'none';\n",
              "\n",
              "      buttonEl.onclick = () => {\n",
              "        google.colab.notebook.generateWithVariable('gi');\n",
              "      }\n",
              "      })();\n",
              "    </script>\n",
              "  </div>\n",
              "\n",
              "    </div>\n",
              "  </div>\n"
            ]
          },
          "metadata": {},
          "execution_count": 3
        }
      ]
    },
    {
      "cell_type": "code",
      "source": [
        "gi.info()"
      ],
      "metadata": {
        "colab": {
          "base_uri": "https://localhost:8080/"
        },
        "id": "vnSxY5oCZyBa",
        "outputId": "efa3f3a3-ac09-422e-d28f-3378e70a7fb8"
      },
      "execution_count": 4,
      "outputs": [
        {
          "output_type": "stream",
          "name": "stdout",
          "text": [
            "<class 'pandas.core.frame.DataFrame'>\n",
            "Int64Index: 214 entries, 1 to 214\n",
            "Data columns (total 10 columns):\n",
            " #   Column            Non-Null Count  Dtype  \n",
            "---  ------            --------------  -----  \n",
            " 0   refractive_index  214 non-null    float64\n",
            " 1   sodium            214 non-null    float64\n",
            " 2   magnesium         214 non-null    float64\n",
            " 3   aluminum          214 non-null    float64\n",
            " 4   silicon           214 non-null    float64\n",
            " 5   potassium         214 non-null    float64\n",
            " 6   calcium           214 non-null    float64\n",
            " 7   barium            214 non-null    float64\n",
            " 8   iron              214 non-null    float64\n",
            " 9   glass_type        214 non-null    int64  \n",
            "dtypes: float64(9), int64(1)\n",
            "memory usage: 18.4 KB\n"
          ]
        }
      ]
    },
    {
      "cell_type": "code",
      "source": [
        "gi.describe()"
      ],
      "metadata": {
        "colab": {
          "base_uri": "https://localhost:8080/",
          "height": 300
        },
        "id": "Z9DSi2-ZaJ4r",
        "outputId": "48ad0748-7226-473d-892c-e958d3039de4"
      },
      "execution_count": 5,
      "outputs": [
        {
          "output_type": "execute_result",
          "data": {
            "text/plain": [
              "       refractive_index      sodium   magnesium    aluminum     silicon  \\\n",
              "count        214.000000  214.000000  214.000000  214.000000  214.000000   \n",
              "mean           1.518365   13.407850    2.684533    1.444907   72.650935   \n",
              "std            0.003037    0.816604    1.442408    0.499270    0.774546   \n",
              "min            1.511150   10.730000    0.000000    0.290000   69.810000   \n",
              "25%            1.516522   12.907500    2.115000    1.190000   72.280000   \n",
              "50%            1.517680   13.300000    3.480000    1.360000   72.790000   \n",
              "75%            1.519157   13.825000    3.600000    1.630000   73.087500   \n",
              "max            1.533930   17.380000    4.490000    3.500000   75.410000   \n",
              "\n",
              "        potassium     calcium      barium        iron  glass_type  \n",
              "count  214.000000  214.000000  214.000000  214.000000  214.000000  \n",
              "mean     0.497056    8.956963    0.175047    0.057009    2.780374  \n",
              "std      0.652192    1.423153    0.497219    0.097439    2.103739  \n",
              "min      0.000000    5.430000    0.000000    0.000000    1.000000  \n",
              "25%      0.122500    8.240000    0.000000    0.000000    1.000000  \n",
              "50%      0.555000    8.600000    0.000000    0.000000    2.000000  \n",
              "75%      0.610000    9.172500    0.000000    0.100000    3.000000  \n",
              "max      6.210000   16.190000    3.150000    0.510000    7.000000  "
            ],
            "text/html": [
              "\n",
              "  <div id=\"df-4532f3ce-dccd-42a6-8c46-2a90a5c62582\" class=\"colab-df-container\">\n",
              "    <div>\n",
              "<style scoped>\n",
              "    .dataframe tbody tr th:only-of-type {\n",
              "        vertical-align: middle;\n",
              "    }\n",
              "\n",
              "    .dataframe tbody tr th {\n",
              "        vertical-align: top;\n",
              "    }\n",
              "\n",
              "    .dataframe thead th {\n",
              "        text-align: right;\n",
              "    }\n",
              "</style>\n",
              "<table border=\"1\" class=\"dataframe\">\n",
              "  <thead>\n",
              "    <tr style=\"text-align: right;\">\n",
              "      <th></th>\n",
              "      <th>refractive_index</th>\n",
              "      <th>sodium</th>\n",
              "      <th>magnesium</th>\n",
              "      <th>aluminum</th>\n",
              "      <th>silicon</th>\n",
              "      <th>potassium</th>\n",
              "      <th>calcium</th>\n",
              "      <th>barium</th>\n",
              "      <th>iron</th>\n",
              "      <th>glass_type</th>\n",
              "    </tr>\n",
              "  </thead>\n",
              "  <tbody>\n",
              "    <tr>\n",
              "      <th>count</th>\n",
              "      <td>214.000000</td>\n",
              "      <td>214.000000</td>\n",
              "      <td>214.000000</td>\n",
              "      <td>214.000000</td>\n",
              "      <td>214.000000</td>\n",
              "      <td>214.000000</td>\n",
              "      <td>214.000000</td>\n",
              "      <td>214.000000</td>\n",
              "      <td>214.000000</td>\n",
              "      <td>214.000000</td>\n",
              "    </tr>\n",
              "    <tr>\n",
              "      <th>mean</th>\n",
              "      <td>1.518365</td>\n",
              "      <td>13.407850</td>\n",
              "      <td>2.684533</td>\n",
              "      <td>1.444907</td>\n",
              "      <td>72.650935</td>\n",
              "      <td>0.497056</td>\n",
              "      <td>8.956963</td>\n",
              "      <td>0.175047</td>\n",
              "      <td>0.057009</td>\n",
              "      <td>2.780374</td>\n",
              "    </tr>\n",
              "    <tr>\n",
              "      <th>std</th>\n",
              "      <td>0.003037</td>\n",
              "      <td>0.816604</td>\n",
              "      <td>1.442408</td>\n",
              "      <td>0.499270</td>\n",
              "      <td>0.774546</td>\n",
              "      <td>0.652192</td>\n",
              "      <td>1.423153</td>\n",
              "      <td>0.497219</td>\n",
              "      <td>0.097439</td>\n",
              "      <td>2.103739</td>\n",
              "    </tr>\n",
              "    <tr>\n",
              "      <th>min</th>\n",
              "      <td>1.511150</td>\n",
              "      <td>10.730000</td>\n",
              "      <td>0.000000</td>\n",
              "      <td>0.290000</td>\n",
              "      <td>69.810000</td>\n",
              "      <td>0.000000</td>\n",
              "      <td>5.430000</td>\n",
              "      <td>0.000000</td>\n",
              "      <td>0.000000</td>\n",
              "      <td>1.000000</td>\n",
              "    </tr>\n",
              "    <tr>\n",
              "      <th>25%</th>\n",
              "      <td>1.516522</td>\n",
              "      <td>12.907500</td>\n",
              "      <td>2.115000</td>\n",
              "      <td>1.190000</td>\n",
              "      <td>72.280000</td>\n",
              "      <td>0.122500</td>\n",
              "      <td>8.240000</td>\n",
              "      <td>0.000000</td>\n",
              "      <td>0.000000</td>\n",
              "      <td>1.000000</td>\n",
              "    </tr>\n",
              "    <tr>\n",
              "      <th>50%</th>\n",
              "      <td>1.517680</td>\n",
              "      <td>13.300000</td>\n",
              "      <td>3.480000</td>\n",
              "      <td>1.360000</td>\n",
              "      <td>72.790000</td>\n",
              "      <td>0.555000</td>\n",
              "      <td>8.600000</td>\n",
              "      <td>0.000000</td>\n",
              "      <td>0.000000</td>\n",
              "      <td>2.000000</td>\n",
              "    </tr>\n",
              "    <tr>\n",
              "      <th>75%</th>\n",
              "      <td>1.519157</td>\n",
              "      <td>13.825000</td>\n",
              "      <td>3.600000</td>\n",
              "      <td>1.630000</td>\n",
              "      <td>73.087500</td>\n",
              "      <td>0.610000</td>\n",
              "      <td>9.172500</td>\n",
              "      <td>0.000000</td>\n",
              "      <td>0.100000</td>\n",
              "      <td>3.000000</td>\n",
              "    </tr>\n",
              "    <tr>\n",
              "      <th>max</th>\n",
              "      <td>1.533930</td>\n",
              "      <td>17.380000</td>\n",
              "      <td>4.490000</td>\n",
              "      <td>3.500000</td>\n",
              "      <td>75.410000</td>\n",
              "      <td>6.210000</td>\n",
              "      <td>16.190000</td>\n",
              "      <td>3.150000</td>\n",
              "      <td>0.510000</td>\n",
              "      <td>7.000000</td>\n",
              "    </tr>\n",
              "  </tbody>\n",
              "</table>\n",
              "</div>\n",
              "    <div class=\"colab-df-buttons\">\n",
              "\n",
              "  <div class=\"colab-df-container\">\n",
              "    <button class=\"colab-df-convert\" onclick=\"convertToInteractive('df-4532f3ce-dccd-42a6-8c46-2a90a5c62582')\"\n",
              "            title=\"Convert this dataframe to an interactive table.\"\n",
              "            style=\"display:none;\">\n",
              "\n",
              "  <svg xmlns=\"http://www.w3.org/2000/svg\" height=\"24px\" viewBox=\"0 -960 960 960\">\n",
              "    <path d=\"M120-120v-720h720v720H120Zm60-500h600v-160H180v160Zm220 220h160v-160H400v160Zm0 220h160v-160H400v160ZM180-400h160v-160H180v160Zm440 0h160v-160H620v160ZM180-180h160v-160H180v160Zm440 0h160v-160H620v160Z\"/>\n",
              "  </svg>\n",
              "    </button>\n",
              "\n",
              "  <style>\n",
              "    .colab-df-container {\n",
              "      display:flex;\n",
              "      gap: 12px;\n",
              "    }\n",
              "\n",
              "    .colab-df-convert {\n",
              "      background-color: #E8F0FE;\n",
              "      border: none;\n",
              "      border-radius: 50%;\n",
              "      cursor: pointer;\n",
              "      display: none;\n",
              "      fill: #1967D2;\n",
              "      height: 32px;\n",
              "      padding: 0 0 0 0;\n",
              "      width: 32px;\n",
              "    }\n",
              "\n",
              "    .colab-df-convert:hover {\n",
              "      background-color: #E2EBFA;\n",
              "      box-shadow: 0px 1px 2px rgba(60, 64, 67, 0.3), 0px 1px 3px 1px rgba(60, 64, 67, 0.15);\n",
              "      fill: #174EA6;\n",
              "    }\n",
              "\n",
              "    .colab-df-buttons div {\n",
              "      margin-bottom: 4px;\n",
              "    }\n",
              "\n",
              "    [theme=dark] .colab-df-convert {\n",
              "      background-color: #3B4455;\n",
              "      fill: #D2E3FC;\n",
              "    }\n",
              "\n",
              "    [theme=dark] .colab-df-convert:hover {\n",
              "      background-color: #434B5C;\n",
              "      box-shadow: 0px 1px 3px 1px rgba(0, 0, 0, 0.15);\n",
              "      filter: drop-shadow(0px 1px 2px rgba(0, 0, 0, 0.3));\n",
              "      fill: #FFFFFF;\n",
              "    }\n",
              "  </style>\n",
              "\n",
              "    <script>\n",
              "      const buttonEl =\n",
              "        document.querySelector('#df-4532f3ce-dccd-42a6-8c46-2a90a5c62582 button.colab-df-convert');\n",
              "      buttonEl.style.display =\n",
              "        google.colab.kernel.accessAllowed ? 'block' : 'none';\n",
              "\n",
              "      async function convertToInteractive(key) {\n",
              "        const element = document.querySelector('#df-4532f3ce-dccd-42a6-8c46-2a90a5c62582');\n",
              "        const dataTable =\n",
              "          await google.colab.kernel.invokeFunction('convertToInteractive',\n",
              "                                                    [key], {});\n",
              "        if (!dataTable) return;\n",
              "\n",
              "        const docLinkHtml = 'Like what you see? Visit the ' +\n",
              "          '<a target=\"_blank\" href=https://colab.research.google.com/notebooks/data_table.ipynb>data table notebook</a>'\n",
              "          + ' to learn more about interactive tables.';\n",
              "        element.innerHTML = '';\n",
              "        dataTable['output_type'] = 'display_data';\n",
              "        await google.colab.output.renderOutput(dataTable, element);\n",
              "        const docLink = document.createElement('div');\n",
              "        docLink.innerHTML = docLinkHtml;\n",
              "        element.appendChild(docLink);\n",
              "      }\n",
              "    </script>\n",
              "  </div>\n",
              "\n",
              "\n",
              "<div id=\"df-73c78f2c-aae0-4279-b330-e17456f57c21\">\n",
              "  <button class=\"colab-df-quickchart\" onclick=\"quickchart('df-73c78f2c-aae0-4279-b330-e17456f57c21')\"\n",
              "            title=\"Suggest charts\"\n",
              "            style=\"display:none;\">\n",
              "\n",
              "<svg xmlns=\"http://www.w3.org/2000/svg\" height=\"24px\"viewBox=\"0 0 24 24\"\n",
              "     width=\"24px\">\n",
              "    <g>\n",
              "        <path d=\"M19 3H5c-1.1 0-2 .9-2 2v14c0 1.1.9 2 2 2h14c1.1 0 2-.9 2-2V5c0-1.1-.9-2-2-2zM9 17H7v-7h2v7zm4 0h-2V7h2v10zm4 0h-2v-4h2v4z\"/>\n",
              "    </g>\n",
              "</svg>\n",
              "  </button>\n",
              "\n",
              "<style>\n",
              "  .colab-df-quickchart {\n",
              "      --bg-color: #E8F0FE;\n",
              "      --fill-color: #1967D2;\n",
              "      --hover-bg-color: #E2EBFA;\n",
              "      --hover-fill-color: #174EA6;\n",
              "      --disabled-fill-color: #AAA;\n",
              "      --disabled-bg-color: #DDD;\n",
              "  }\n",
              "\n",
              "  [theme=dark] .colab-df-quickchart {\n",
              "      --bg-color: #3B4455;\n",
              "      --fill-color: #D2E3FC;\n",
              "      --hover-bg-color: #434B5C;\n",
              "      --hover-fill-color: #FFFFFF;\n",
              "      --disabled-bg-color: #3B4455;\n",
              "      --disabled-fill-color: #666;\n",
              "  }\n",
              "\n",
              "  .colab-df-quickchart {\n",
              "    background-color: var(--bg-color);\n",
              "    border: none;\n",
              "    border-radius: 50%;\n",
              "    cursor: pointer;\n",
              "    display: none;\n",
              "    fill: var(--fill-color);\n",
              "    height: 32px;\n",
              "    padding: 0;\n",
              "    width: 32px;\n",
              "  }\n",
              "\n",
              "  .colab-df-quickchart:hover {\n",
              "    background-color: var(--hover-bg-color);\n",
              "    box-shadow: 0 1px 2px rgba(60, 64, 67, 0.3), 0 1px 3px 1px rgba(60, 64, 67, 0.15);\n",
              "    fill: var(--button-hover-fill-color);\n",
              "  }\n",
              "\n",
              "  .colab-df-quickchart-complete:disabled,\n",
              "  .colab-df-quickchart-complete:disabled:hover {\n",
              "    background-color: var(--disabled-bg-color);\n",
              "    fill: var(--disabled-fill-color);\n",
              "    box-shadow: none;\n",
              "  }\n",
              "\n",
              "  .colab-df-spinner {\n",
              "    border: 2px solid var(--fill-color);\n",
              "    border-color: transparent;\n",
              "    border-bottom-color: var(--fill-color);\n",
              "    animation:\n",
              "      spin 1s steps(1) infinite;\n",
              "  }\n",
              "\n",
              "  @keyframes spin {\n",
              "    0% {\n",
              "      border-color: transparent;\n",
              "      border-bottom-color: var(--fill-color);\n",
              "      border-left-color: var(--fill-color);\n",
              "    }\n",
              "    20% {\n",
              "      border-color: transparent;\n",
              "      border-left-color: var(--fill-color);\n",
              "      border-top-color: var(--fill-color);\n",
              "    }\n",
              "    30% {\n",
              "      border-color: transparent;\n",
              "      border-left-color: var(--fill-color);\n",
              "      border-top-color: var(--fill-color);\n",
              "      border-right-color: var(--fill-color);\n",
              "    }\n",
              "    40% {\n",
              "      border-color: transparent;\n",
              "      border-right-color: var(--fill-color);\n",
              "      border-top-color: var(--fill-color);\n",
              "    }\n",
              "    60% {\n",
              "      border-color: transparent;\n",
              "      border-right-color: var(--fill-color);\n",
              "    }\n",
              "    80% {\n",
              "      border-color: transparent;\n",
              "      border-right-color: var(--fill-color);\n",
              "      border-bottom-color: var(--fill-color);\n",
              "    }\n",
              "    90% {\n",
              "      border-color: transparent;\n",
              "      border-bottom-color: var(--fill-color);\n",
              "    }\n",
              "  }\n",
              "</style>\n",
              "\n",
              "  <script>\n",
              "    async function quickchart(key) {\n",
              "      const quickchartButtonEl =\n",
              "        document.querySelector('#' + key + ' button');\n",
              "      quickchartButtonEl.disabled = true;  // To prevent multiple clicks.\n",
              "      quickchartButtonEl.classList.add('colab-df-spinner');\n",
              "      try {\n",
              "        const charts = await google.colab.kernel.invokeFunction(\n",
              "            'suggestCharts', [key], {});\n",
              "      } catch (error) {\n",
              "        console.error('Error during call to suggestCharts:', error);\n",
              "      }\n",
              "      quickchartButtonEl.classList.remove('colab-df-spinner');\n",
              "      quickchartButtonEl.classList.add('colab-df-quickchart-complete');\n",
              "    }\n",
              "    (() => {\n",
              "      let quickchartButtonEl =\n",
              "        document.querySelector('#df-73c78f2c-aae0-4279-b330-e17456f57c21 button');\n",
              "      quickchartButtonEl.style.display =\n",
              "        google.colab.kernel.accessAllowed ? 'block' : 'none';\n",
              "    })();\n",
              "  </script>\n",
              "</div>\n",
              "\n",
              "    </div>\n",
              "  </div>\n"
            ]
          },
          "metadata": {},
          "execution_count": 5
        }
      ]
    },
    {
      "cell_type": "code",
      "source": [
        "gi.isnull().sum()"
      ],
      "metadata": {
        "colab": {
          "base_uri": "https://localhost:8080/"
        },
        "id": "3wtiW-QRaL96",
        "outputId": "5e0cc805-31c6-4614-c624-0d7bf740e5bf"
      },
      "execution_count": 6,
      "outputs": [
        {
          "output_type": "execute_result",
          "data": {
            "text/plain": [
              "refractive_index    0\n",
              "sodium              0\n",
              "magnesium           0\n",
              "aluminum            0\n",
              "silicon             0\n",
              "potassium           0\n",
              "calcium             0\n",
              "barium              0\n",
              "iron                0\n",
              "glass_type          0\n",
              "dtype: int64"
            ]
          },
          "metadata": {},
          "execution_count": 6
        }
      ]
    },
    {
      "cell_type": "code",
      "source": [
        "gi['glass_type'].unique()"
      ],
      "metadata": {
        "colab": {
          "base_uri": "https://localhost:8080/"
        },
        "id": "GqcS-ET7aN8y",
        "outputId": "e49d3e87-f2bf-4d71-fbdf-71e53b628acc"
      },
      "execution_count": 7,
      "outputs": [
        {
          "output_type": "execute_result",
          "data": {
            "text/plain": [
              "array([1, 2, 3, 5, 6, 7])"
            ]
          },
          "metadata": {},
          "execution_count": 7
        }
      ]
    },
    {
      "cell_type": "code",
      "source": [
        "glass_tp=(gi['glass_type'].value_counts())\n",
        "print(glass_tp)\n",
        "\n",
        "plt.pie(x=glass_tp,autopct='%.2f',pctdistance=0.65)\n",
        "plt.show()"
      ],
      "metadata": {
        "colab": {
          "base_uri": "https://localhost:8080/",
          "height": 528
        },
        "id": "3Uoi_dYEaP_i",
        "outputId": "f1073555-0164-430c-925f-0feb0a5ee5b1"
      },
      "execution_count": 8,
      "outputs": [
        {
          "output_type": "stream",
          "name": "stdout",
          "text": [
            "2    76\n",
            "1    70\n",
            "7    29\n",
            "3    17\n",
            "5    13\n",
            "6     9\n",
            "Name: glass_type, dtype: int64\n"
          ]
        },
        {
          "output_type": "display_data",
          "data": {
            "text/plain": [
              "<Figure size 640x480 with 1 Axes>"
            ],
            "image/png": "[encoded data removed]"
          },
          "metadata": {}
        }
      ]
    },
    {
      "cell_type": "markdown",
      "source": [
        "There are 214 observations in the dataset. The dataset can be divided into window glass (classes 1-4) and non-window glass (classes 5-7)"
      ],
      "metadata": {
        "id": "OvQ7wLbBaWrS"
      }
    },
    {
      "cell_type": "code",
      "source": [
        "Y=gi['glass_type'].apply(lambda y_value:1  if y_value>=4 else 0)\n",
        "Y"
      ],
      "metadata": {
        "colab": {
          "base_uri": "https://localhost:8080/"
        },
        "id": "pTNVYsvFaYoq",
        "outputId": "71ebbeb5-9dc8-41d7-e745-0df4b73f9891"
      },
      "execution_count": 9,
      "outputs": [
        {
          "output_type": "execute_result",
          "data": {
            "text/plain": [
              "Id\n",
              "1      0\n",
              "2      0\n",
              "3      0\n",
              "4      0\n",
              "5      0\n",
              "      ..\n",
              "210    1\n",
              "211    1\n",
              "212    1\n",
              "213    1\n",
              "214    1\n",
              "Name: glass_type, Length: 214, dtype: int64"
            ]
          },
          "metadata": {},
          "execution_count": 9
        }
      ]
    },
    {
      "cell_type": "code",
      "source": [
        "from sklearn.preprocessing import MinMaxScaler\n",
        "mm=MinMaxScaler()\n",
        "X=gi.iloc[:,:-1]\n",
        "gii=mm.fit_transform(X)\n",
        "x=pd.DataFrame(gii)\n",
        "print(len(x))"
      ],
      "metadata": {
        "colab": {
          "base_uri": "https://localhost:8080/"
        },
        "id": "AjN8vX_Dagzx",
        "outputId": "08dc2705-6479-44a0-f040-f51a121af320"
      },
      "execution_count": 12,
      "outputs": [
        {
          "output_type": "stream",
          "name": "stdout",
          "text": [
            "214\n"
          ]
        }
      ]
    },
    {
      "cell_type": "code",
      "source": [
        "maxAcu = 0\n",
        "maxRS = 0\n",
        "\n",
        "for i in range(1,200):\n",
        "    X_train,X_test,Y_train,Y_test =train_test_split(x,Y, test_size=0.30, random_state=i)\n",
        "    RFR= RandomForestClassifier()\n",
        "    RFR.fit(X_train, Y_train)\n",
        "    pred = RFR.predict(X_test)\n",
        "    acc= accuracy_score(Y_test, pred)\n",
        "    if acc> maxAcu:\n",
        "        maxAcu = acc\n",
        "        maxRs = i\n",
        "print(\"Best Accuracy : \", maxAcu, \"with Random State\", maxRS)"
      ],
      "metadata": {
        "colab": {
          "base_uri": "https://localhost:8080/"
        },
        "id": "HtKhEC3yaje5",
        "outputId": "bb6bf959-90b2-4e74-8cf6-c47e6894bb7c"
      },
      "execution_count": 13,
      "outputs": [
        {
          "output_type": "stream",
          "name": "stdout",
          "text": [
            "Best Accuracy :  1.0 with Random State 0\n"
          ]
        }
      ]
    },
    {
      "cell_type": "code",
      "source": [
        "rfc=RandomForestClassifier()\n",
        "rfc.fit(X_train, Y_train)\n",
        "predrfc = rfc.predict(X_test)\n",
        "print(accuracy_score(Y_test, predrfc))\n",
        "print(confusion_matrix(Y_test, predrfc))\n",
        "print(classification_report(Y_test, predrfc))"
      ],
      "metadata": {
        "colab": {
          "base_uri": "https://localhost:8080/"
        },
        "id": "pxjISgMHanCq",
        "outputId": "640d1ba4-15c6-4a32-bd86-65432448a5c0"
      },
      "execution_count": 14,
      "outputs": [
        {
          "output_type": "stream",
          "name": "stdout",
          "text": [
            "0.9230769230769231\n",
            "[[45  3]\n",
            " [ 2 15]]\n",
            "              precision    recall  f1-score   support\n",
            "\n",
            "           0       0.96      0.94      0.95        48\n",
            "           1       0.83      0.88      0.86        17\n",
            "\n",
            "    accuracy                           0.92        65\n",
            "   macro avg       0.90      0.91      0.90        65\n",
            "weighted avg       0.92      0.92      0.92        65\n",
            "\n"
          ]
        }
      ]
    },
    {
      "cell_type": "code",
      "source": [
        "score = cross_val_score(rfc,x,Y)\n",
        "print(score)\n",
        "print(score.mean())\n",
        "print(\"Difference btw accurancy and CV score is  \",accuracy_score(Y_test, predrfc) - score.mean())"
      ],
      "metadata": {
        "colab": {
          "base_uri": "https://localhost:8080/"
        },
        "id": "RIodQpzmatRj",
        "outputId": "837b35ab-1388-4076-a073-073f2652531f"
      },
      "execution_count": 15,
      "outputs": [
        {
          "output_type": "stream",
          "name": "stdout",
          "text": [
            "[0.93023256 0.86046512 0.88372093 0.74418605 1.        ]\n",
            "0.8837209302325583\n",
            "Difference btw accurancy and CV score is   0.03935599284436486\n"
          ]
        }
      ]
    },
    {
      "cell_type": "code",
      "source": [
        "lr= LogisticRegression()\n",
        "lr.fit(X_train,Y_train)\n",
        "predlr=lr.predict(X_test)\n",
        "print(accuracy_score(Y_test, predlr))\n",
        "print(confusion_matrix(Y_test, predlr))\n",
        "print(classification_report(Y_test, predlr))"
      ],
      "metadata": {
        "colab": {
          "base_uri": "https://localhost:8080/"
        },
        "id": "JMYZBRy2auFq",
        "outputId": "7100401a-ca27-43a1-faab-8178e626c15e"
      },
      "execution_count": 16,
      "outputs": [
        {
          "output_type": "stream",
          "name": "stdout",
          "text": [
            "0.8923076923076924\n",
            "[[47  1]\n",
            " [ 6 11]]\n",
            "              precision    recall  f1-score   support\n",
            "\n",
            "           0       0.89      0.98      0.93        48\n",
            "           1       0.92      0.65      0.76        17\n",
            "\n",
            "    accuracy                           0.89        65\n",
            "   macro avg       0.90      0.81      0.84        65\n",
            "weighted avg       0.89      0.89      0.89        65\n",
            "\n"
          ]
        }
      ]
    },
    {
      "cell_type": "code",
      "source": [
        "score = cross_val_score(lr,x,Y)\n",
        "print(score)\n",
        "print(score.mean())\n",
        "print(\"Difference btw accurancy and CV score is \",accuracy_score(Y_test, predlr) - score.mean())"
      ],
      "metadata": {
        "colab": {
          "base_uri": "https://localhost:8080/"
        },
        "id": "Zto6PD1maubC",
        "outputId": "8ee12eaf-787a-4b75-ee95-5506feab484d"
      },
      "execution_count": 17,
      "outputs": [
        {
          "output_type": "stream",
          "name": "stdout",
          "text": [
            "[0.93023256 0.8372093  0.86046512 0.76744186 0.97619048]\n",
            "0.8743078626799556\n",
            "Difference btw accurancy and CV score is  0.01799982962773672\n"
          ]
        }
      ]
    },
    {
      "cell_type": "code",
      "source": [
        "svm=SVC()\n",
        "svm.fit(X_train,Y_train)\n",
        "predsvm=svm.predict(X_test)\n",
        "print(accuracy_score(Y_test, predsvm))\n",
        "print(confusion_matrix(Y_test, predsvm))\n",
        "print(classification_report(Y_test, predsvm))"
      ],
      "metadata": {
        "colab": {
          "base_uri": "https://localhost:8080/"
        },
        "id": "jXvQ_wJOa5SK",
        "outputId": "79abe0cf-7930-4d58-8bb5-53a0b8d985e1"
      },
      "execution_count": 18,
      "outputs": [
        {
          "output_type": "stream",
          "name": "stdout",
          "text": [
            "0.9230769230769231\n",
            "[[47  1]\n",
            " [ 4 13]]\n",
            "              precision    recall  f1-score   support\n",
            "\n",
            "           0       0.92      0.98      0.95        48\n",
            "           1       0.93      0.76      0.84        17\n",
            "\n",
            "    accuracy                           0.92        65\n",
            "   macro avg       0.93      0.87      0.89        65\n",
            "weighted avg       0.92      0.92      0.92        65\n",
            "\n"
          ]
        }
      ]
    },
    {
      "cell_type": "code",
      "source": [
        "score = cross_val_score(svm,x,Y)\n",
        "print(score)\n",
        "print(score.mean())\n",
        "print(\"Difference btw accurancy and CV score is  \",accuracy_score(Y_test, predsvm) - score.mean())"
      ],
      "metadata": {
        "colab": {
          "base_uri": "https://localhost:8080/"
        },
        "id": "B_ET9XwKa5sK",
        "outputId": "744e4428-a60d-47db-f126-52716ca325b8"
      },
      "execution_count": 19,
      "outputs": [
        {
          "output_type": "stream",
          "name": "stdout",
          "text": [
            "[0.90697674 0.86046512 0.93023256 0.74418605 1.        ]\n",
            "0.8883720930232558\n",
            "Difference btw accurancy and CV score is   0.03470483005366731\n"
          ]
        }
      ]
    },
    {
      "cell_type": "code",
      "source": [
        "gb= GradientBoostingClassifier()\n",
        "gb.fit(X_train,Y_train)\n",
        "predgb=gb.predict(X_test)\n",
        "print(accuracy_score(Y_test, predgb))\n",
        "print(confusion_matrix(Y_test, predgb))\n",
        "print(classification_report(Y_test, predgb))"
      ],
      "metadata": {
        "colab": {
          "base_uri": "https://localhost:8080/"
        },
        "id": "JAQX--oDa5-6",
        "outputId": "6e3c1b0a-1a33-4e59-8223-91c907d538e4"
      },
      "execution_count": 20,
      "outputs": [
        {
          "output_type": "stream",
          "name": "stdout",
          "text": [
            "0.9076923076923077\n",
            "[[45  3]\n",
            " [ 3 14]]\n",
            "              precision    recall  f1-score   support\n",
            "\n",
            "           0       0.94      0.94      0.94        48\n",
            "           1       0.82      0.82      0.82        17\n",
            "\n",
            "    accuracy                           0.91        65\n",
            "   macro avg       0.88      0.88      0.88        65\n",
            "weighted avg       0.91      0.91      0.91        65\n",
            "\n"
          ]
        }
      ]
    },
    {
      "cell_type": "code",
      "source": [
        "score = cross_val_score(gb,x,Y)\n",
        "print(score)\n",
        "print(score.mean())\n",
        "print(\"Difference btw accurancy and CV score is  \",accuracy_score(Y_test, predgb) - score.mean())"
      ],
      "metadata": {
        "colab": {
          "base_uri": "https://localhost:8080/"
        },
        "id": "7uoQ6Rc3a6Qa",
        "outputId": "d195583b-a7ac-455d-c4d8-6105dde11f22"
      },
      "execution_count": 21,
      "outputs": [
        {
          "output_type": "stream",
          "name": "stdout",
          "text": [
            "[0.97674419 0.88372093 0.8372093  0.8372093  1.        ]\n",
            "0.9069767441860466\n",
            "Difference btw accurancy and CV score is   0.0007155635062611188\n"
          ]
        }
      ]
    },
    {
      "cell_type": "code",
      "source": [
        "ad=AdaBoostClassifier()\n",
        "ad.fit(X_train,Y_train)\n",
        "predad=svm.predict(X_test)\n",
        "print(accuracy_score(Y_test, predad))\n",
        "print(confusion_matrix(Y_test, predad))\n",
        "print(classification_report(Y_test, predad))"
      ],
      "metadata": {
        "colab": {
          "base_uri": "https://localhost:8080/"
        },
        "id": "c2j2UTB8a6iK",
        "outputId": "30ec83fc-c914-440f-9f6f-4c7036221c0f"
      },
      "execution_count": 22,
      "outputs": [
        {
          "output_type": "stream",
          "name": "stdout",
          "text": [
            "0.9230769230769231\n",
            "[[47  1]\n",
            " [ 4 13]]\n",
            "              precision    recall  f1-score   support\n",
            "\n",
            "           0       0.92      0.98      0.95        48\n",
            "           1       0.93      0.76      0.84        17\n",
            "\n",
            "    accuracy                           0.92        65\n",
            "   macro avg       0.93      0.87      0.89        65\n",
            "weighted avg       0.92      0.92      0.92        65\n",
            "\n"
          ]
        }
      ]
    },
    {
      "cell_type": "code",
      "source": [
        "score = cross_val_score(ad,x,Y)\n",
        "print(score)\n",
        "print(score.mean())\n",
        "print(\"Difference btw accurancy and CV score is  \",accuracy_score(Y_test, predad) - score.mean())"
      ],
      "metadata": {
        "colab": {
          "base_uri": "https://localhost:8080/"
        },
        "id": "vGknkJqfbGCK",
        "outputId": "64856943-2387-4b33-8d2c-695838d43d50"
      },
      "execution_count": 23,
      "outputs": [
        {
          "output_type": "stream",
          "name": "stdout",
          "text": [
            "[0.95348837 0.93023256 0.8372093  0.8372093  1.        ]\n",
            "0.9116279069767442\n",
            "Difference btw accurancy and CV score is   0.0114490161001789\n"
          ]
        }
      ]
    },
    {
      "cell_type": "code",
      "source": [
        "from sklearn import metrics\n",
        "met=metrics\n",
        "fpr,tpr,thresholds = met.roc_curve(Y_test, predgb)\n",
        "roc_auc =met.auc(fpr,tpr)\n",
        "display = met.RocCurveDisplay(fpr=fpr,tpr=tpr,roc_auc=roc_auc, estimator_name= gb)\n",
        "display.plot()"
      ],
      "metadata": {
        "colab": {
          "base_uri": "https://localhost:8080/",
          "height": 466
        },
        "id": "RKNGu2CHbGUi",
        "outputId": "21ee4249-668d-4e17-c917-93f4c06b525a"
      },
      "execution_count": 24,
      "outputs": [
        {
          "output_type": "execute_result",
          "data": {
            "text/plain": [
              "<sklearn.metrics._plot.roc_curve.RocCurveDisplay at 0x78cc2e6fb280>"
            ]
          },
          "metadata": {},
          "execution_count": 24
        },
        {
          "output_type": "display_data",
          "data": {
            "text/plain": [
              "<Figure size 640x480 with 1 Axes>"
            ],
            "image/png": "[encoded data removed]"
          },
          "metadata": {}
        }
      ]
    },
    {
      "cell_type": "code",
      "source": [
        "import joblib\n",
        "joblib.dump(gb,'glass_identify.pkl')"
      ],
      "metadata": {
        "colab": {
          "base_uri": "https://localhost:8080/"
        },
        "id": "duOmLA58bGky",
        "outputId": "c1edf469-fcea-4868-ad20-a3aab9a7f0f5"
      },
      "execution_count": 25,
      "outputs": [
        {
          "output_type": "execute_result",
          "data": {
            "text/plain": [
              "['glass_identify.pkl']"
            ]
          },
          "metadata": {},
          "execution_count": 25
        }
      ]
    },
    {
      "cell_type": "code",
      "source": [
        "model =joblib.load('glass_identify.pkl')\n",
        "pred=model.predict(X_test)\n",
        "pred"
      ],
      "metadata": {
        "colab": {
          "base_uri": "https://localhost:8080/"
        },
        "id": "etJNStdubG0a",
        "outputId": "629d5d1f-1ff9-4eab-9cc6-db3d88f85b5c"
      },
      "execution_count": 27,
      "outputs": [
        {
          "output_type": "execute_result",
          "data": {
            "text/plain": [
              "array([0, 0, 0, 0, 1, 0, 0, 0, 1, 1, 0, 0, 1, 1, 0, 0, 0, 0, 0, 0, 0, 0,\n",
              "       0, 0, 0, 0, 0, 0, 0, 0, 0, 0, 0, 0, 1, 0, 0, 0, 0, 0, 1, 0, 1, 1,\n",
              "       1, 1, 0, 1, 0, 1, 0, 0, 0, 0, 1, 1, 0, 0, 1, 0, 1, 0, 0, 0, 0])"
            ]
          },
          "metadata": {},
          "execution_count": 27
        }
      ]
    },
    {
      "cell_type": "code",
      "source": [
        "input_data=(1.52101,13.64,4.49,1.10,71.78,0.06,8.75,0.02,0.14)\n",
        "in_dt=np.array(input_data)\n",
        "fin_in_dt= in_dt.reshape(1,-1)\n"
      ],
      "metadata": {
        "id": "m647ZcHsbHGC"
      },
      "execution_count": 28,
      "outputs": []
    },
    {
      "cell_type": "code",
      "source": [
        "pred= model.predict(fin_in_dt)\n",
        "pred"
      ],
      "metadata": {
        "colab": {
          "base_uri": "https://localhost:8080/"
        },
        "id": "dEiSUaNodbm5",
        "outputId": "c4fd86f6-8c47-4ce6-a426-c29aee54494d"
      },
      "execution_count": 31,
      "outputs": [
        {
          "output_type": "execute_result",
          "data": {
            "text/plain": [
              "array([0])"
            ]
          },
          "metadata": {},
          "execution_count": 31
        }
      ]
    },
    {
      "cell_type": "code",
      "source": [
        "if pred == 1:\n",
        "    print('Non window glass ')\n",
        "else:\n",
        "    print(\"Window glass\")"
      ],
      "metadata": {
        "colab": {
          "base_uri": "https://localhost:8080/"
        },
        "id": "nO_vF-wIdeH6",
        "outputId": "245ef63b-f578-468d-ea78-c337e9e82fff"
      },
      "execution_count": 30,
      "outputs": [
        {
          "output_type": "stream",
          "name": "stdout",
          "text": [
            "Window glass\n"
          ]
        }
      ]
    },
    {
      "cell_type": "code",
      "source": [],
      "metadata": {
        "id": "2dsOhX1Kd63K"
      },
      "execution_count": null,
      "outputs": []
    }
  ]
}