{
 "cells": [
  {
   "cell_type": "code",
   "execution_count": 1,
   "id": "533ad3f8",
   "metadata": {},
   "outputs": [],
   "source": [
    "import regex as re"
   ]
  },
  {
   "cell_type": "markdown",
   "id": "9a26f689",
   "metadata": {},
   "source": [
    "Question 1- Write a Python program to replace all occurrences of a space, comma, or dot with a colon."
   ]
  },
  {
   "cell_type": "markdown",
   "id": "a1bd0634",
   "metadata": {},
   "source": [
    "Sample Text- 'Python Exercises, PHP exercises.'\n",
    "Expected Output: Python:Exercises::PHP:exercises:\n"
   ]
  },
  {
   "cell_type": "code",
   "execution_count": 2,
   "id": "ccc54e95",
   "metadata": {},
   "outputs": [
    {
     "name": "stdout",
     "output_type": "stream",
     "text": [
      "Python:Exercises::PHP:exercises:\n"
     ]
    }
   ],
   "source": [
    "inp_str='Python Exercises, PHP exercises.'\n",
    "pattern =(r'[\\s,.]')\n",
    "result=re.sub(pattern,\":\", inp_str)\n",
    "print(result)"
   ]
  },
  {
   "cell_type": "markdown",
   "id": "39c8f584",
   "metadata": {},
   "source": [
    "Question 2-  Write a Python program to find all words starting with 'a' or 'e' in a given string.(no string given hence taking it from google)"
   ]
  },
  {
   "cell_type": "code",
   "execution_count": 3,
   "id": "1596cbac",
   "metadata": {},
   "outputs": [
    {
     "name": "stdout",
     "output_type": "stream",
     "text": [
      "['Aardvarks', 'are', 'animals', 'ants', 'and', 'Ecosystems', 'are', 'and', 'environment']\n"
     ]
    }
   ],
   "source": [
    "inp_str= \"\"\"Aardvarks are nocturnal animals that feed on ants and termites.\n",
    "Ecosystems are communities of living organisms and their physical environment.\n",
    "\"\"\"\n",
    "pattern = r\"\\b[aAeE]\\w+\"\n",
    "\n",
    "result=re.findall(pattern, inp_str)\n",
    "print(result)"
   ]
  },
  {
   "cell_type": "markdown",
   "id": "a1e4c4bb",
   "metadata": {},
   "source": [
    "Question 3- Create a function in python to find all words that are at least 4 characters long in a string. \n",
    "The use of the re.compile() method is mandatory."
   ]
  },
  {
   "cell_type": "code",
   "execution_count": 4,
   "id": "2b3d151c",
   "metadata": {},
   "outputs": [
    {
     "name": "stdout",
     "output_type": "stream",
     "text": [
      "['Aardvarks', 'nocturnal', 'animals', 'that', 'feed', 'Ants', 'Termites', 'Ecosystems', 'communities', 'living', 'organisms', 'their', 'physical', 'environment']\n"
     ]
    }
   ],
   "source": [
    "inp_str= \"\"\"Aardvarks are nocturnal animals that feed on Ants and Termites.\n",
    "Ecosystems are communities of living organisms and their physical environment.\"\"\"\n",
    "\n",
    "pattern=r\"\\b\\w{4,}\\b\"\n",
    "regex_p=re.compile(pattern)\n",
    "result=regex_p.findall(inp_str)\n",
    "print(result)"
   ]
  },
  {
   "cell_type": "markdown",
   "id": "75207d72",
   "metadata": {},
   "source": [
    "Question 4- Create a function in python to find all three, four, and five character words in a string. \n",
    "The use of the re.compile() method is mandatory."
   ]
  },
  {
   "cell_type": "code",
   "execution_count": 5,
   "id": "36a3961a",
   "metadata": {},
   "outputs": [
    {
     "name": "stdout",
     "output_type": "stream",
     "text": [
      "['India', 'are', 'that', 'feed', 'ants', 'and', 'are', 'and', 'their']\n"
     ]
    }
   ],
   "source": [
    "inp_str= \"\"\" India ||Aardvarks are nocturnal animals that feed on ants and termites.\n",
    "Ecosystems are communities of living organisms and their physical environment.\"\"\"\n",
    "pattern=r\"\\b\\w{3,5}\\b\"\n",
    "regex_p=re.compile(pattern)\n",
    "result=regex_p.findall(inp_str)\n",
    "print(result)"
   ]
  },
  {
   "cell_type": "markdown",
   "id": "8b753640",
   "metadata": {},
   "source": [
    "Question 5- Create a function in Python to remove the parenthesis in a list of strings. The use of the re.compile() method is mandatory.\n",
    "Sample Text: [\"example (.com)\", \"hr@fliprobo (.com)\", \"github (.com)\", \"Hello (Data Science World)\", \"Data (Scientist)\"]\n",
    "Expected Output:\n",
    "example.com\n",
    "hr@fliprobo.com\n",
    "github.com\n",
    "Hello Data Science World\n",
    "Data Scientist\n",
    "\n"
   ]
  },
  {
   "cell_type": "code",
   "execution_count": 6,
   "id": "375c39c1",
   "metadata": {},
   "outputs": [
    {
     "name": "stdout",
     "output_type": "stream",
     "text": [
      "['example.com', 'hr@fliprobo.com', 'github.com', 'HelloDataScienceWorld', 'DataScientist']\n"
     ]
    }
   ],
   "source": [
    "inp_str_list=[\"example (.com)\", \"hr@fliprobo (.com)\", \"github (.com)\", \"Hello (Data Science World)\", \"Data (Scientist)\"]\n",
    "pattern=r\"[\\s()]\"\n",
    "result=[re.sub(pattern, \"\",inp_str) for inp_str in inp_str_list]\n",
    "print(result)"
   ]
  },
  {
   "cell_type": "code",
   "execution_count": 7,
   "id": "cb51e014",
   "metadata": {},
   "outputs": [
    {
     "name": "stdout",
     "output_type": "stream",
     "text": [
      "example.com\n",
      "hr@fliprobo.com\n",
      "github.com\n",
      "HelloDataScienceWorld\n",
      "DataScientist\n"
     ]
    }
   ],
   "source": [
    "inp_str=[\"example (.com)\", \"hr@fliprobo (.com)\", \"github (.com)\", \"Hello (Data Science World)\", \"Data (Scientist)\"]\n",
    "pattern= re.compile(r\"[\\s()]\")\n",
    "result=[pattern.sub(\"\", inp) for inp in inp_str]\n",
    "for res in result:\n",
    "    print(res)"
   ]
  },
  {
   "cell_type": "markdown",
   "id": "cdc81d62",
   "metadata": {},
   "source": [
    "Question 6- Write a python program to remove the parenthesis area from the text stored in the text file using Regular Expression.\n",
    "Sample Text: [\"example (.com)\", \"hr@fliprobo (.com)\", \"github (.com)\", \"Hello (Data Science World)\", \"Data (Scientist)\"]\n",
    "Expected Output: [\"example\", \"hr@fliprobo\", \"github\", \"Hello\", \"Data\"]\n",
    "Note- Store given sample text in the text file and then to remove the parenthesis area from the text.\n"
   ]
  },
  {
   "cell_type": "code",
   "execution_count": 8,
   "id": "510cd93e",
   "metadata": {},
   "outputs": [
    {
     "name": "stdout",
     "output_type": "stream",
     "text": [
      "example\n",
      "hr@fliprobo\n",
      "github\n",
      "Hello\n",
      "Data\n"
     ]
    }
   ],
   "source": [
    "with open('file.txt', 'r') as file:\n",
    "    text = file.read()\n",
    "\n",
    "pattern = r'\\s*\\([^)]*\\)'\n",
    "result = re.sub(pattern, '', text)\n",
    "\n",
    "print(result)"
   ]
  },
  {
   "cell_type": "markdown",
   "id": "5bfdd881",
   "metadata": {},
   "source": [
    "Question 7- Write a regular expression in Python to split a string into uppercase letters.\n",
    "Sample text: “ImportanceOfRegularExpressionsInPython”\n",
    "Expected Output: [‘Importance’, ‘Of’, ‘Regular’, ‘Expression’, ‘In’, ‘Python’]\n"
   ]
  },
  {
   "cell_type": "code",
   "execution_count": 9,
   "id": "71b34229",
   "metadata": {},
   "outputs": [
    {
     "name": "stdout",
     "output_type": "stream",
     "text": [
      "['Importance', 'Of', 'Regular', 'Expressions', 'In', 'Python']\n"
     ]
    }
   ],
   "source": [
    "inp_str=\"ImportanceOfRegularExpressionsInPython\"\n",
    "pattern= r\"([A-Z][^A-Z]*)\"\n",
    "result=re.findall(pattern, inp_str)\n",
    "print(result)"
   ]
  },
  {
   "cell_type": "markdown",
   "id": "b49a8cd8",
   "metadata": {},
   "source": [
    "Question 8- Create a function in python to insert spaces between words starting with numbers.\n",
    "Sample Text: “RegularExpression1IsAn2ImportantTopic3InPython\"\n",
    "Expected Output: RegularExpression 1IsAn 2ImportantTopic 3InPython\n"
   ]
  },
  {
   "cell_type": "code",
   "execution_count": 10,
   "id": "034f5f8f",
   "metadata": {},
   "outputs": [
    {
     "data": {
      "text/plain": [
       "'RegularExpression 1IsAn 2ImportantTopic 3InPython'"
      ]
     },
     "execution_count": 10,
     "metadata": {},
     "output_type": "execute_result"
    }
   ],
   "source": [
    "inp_str=\"RegularExpression1IsAn2ImportantTopic3InPython\"\n",
    "pattern=re.compile (r\"(?=[0-9])\")\n",
    "result=pattern.sub(\" \", inp_str)\n",
    "result"
   ]
  },
  {
   "cell_type": "code",
   "execution_count": 11,
   "id": "8e21b95c",
   "metadata": {},
   "outputs": [
    {
     "name": "stdout",
     "output_type": "stream",
     "text": [
      "RegularExpression 1IsAn 2ImportantTopic 3InPython\n"
     ]
    }
   ],
   "source": [
    "def insrt_spc(text):\n",
    "    pattern = r\"(?=[0-9])\"\n",
    "    result = re.sub(pattern, r' ', text)\n",
    "    return result\n",
    "\n",
    "inp_str = \"RegularExpression1IsAn2ImportantTopic3InPython\"\n",
    "output = insrt_spc(inp_str)\n",
    "print(output)"
   ]
  },
  {
   "cell_type": "markdown",
   "id": "2100e243",
   "metadata": {},
   "source": [
    "Question 9- Create a function in python to insert spaces between words starting with capital letters or with numbers.\n",
    "Sample Text: “RegularExpression1IsAn2ImportantTopic3InPython\"\n",
    "Expected Output:  RegularExpression 1 IsAn 2 ImportantTopic 3 InPython\n"
   ]
  },
  {
   "cell_type": "code",
   "execution_count": 12,
   "id": "35b45d2a",
   "metadata": {},
   "outputs": [
    {
     "name": "stdout",
     "output_type": "stream",
     "text": [
      "RegularExpression 1 IsAn 2 ImportantTopic 3 InPython\n"
     ]
    }
   ],
   "source": [
    "inp_str=\"RegularExpression1IsAn2ImportantTopic3InPython\"\n",
    "pattern=re.compile(r\"(?<=[0-9])(?=[A-Z])|(?<=[a-z])(?=[0-9])\")\n",
    "result=pattern.sub(\" \",inp_str)\n",
    "print(result)"
   ]
  },
  {
   "cell_type": "code",
   "execution_count": 13,
   "id": "ac631448",
   "metadata": {},
   "outputs": [
    {
     "name": "stdout",
     "output_type": "stream",
     "text": [
      "RegularExpression 1 IsAn 2 ImportantTopic 3 InPython\n"
     ]
    }
   ],
   "source": [
    "def insert_space(inp_str):\n",
    "    pattern = r\"(?<=[0-9])(?=[A-Z])|(?<=[a-z])(?=[0-9])\"\n",
    "    result = re.sub(pattern, \" \", inp_str)\n",
    "    return result\n",
    "\n",
    "inp_str = \"RegularExpression1IsAn2ImportantTopic3InPython\"\n",
    "output = insert_space(inp_str)\n",
    "print(output)"
   ]
  },
  {
   "cell_type": "markdown",
   "id": "cdb85e40",
   "metadata": {},
   "source": [
    "Question 10- Write a python program to extract email address from the text stored in the text file using Regular Expression.\n",
    "Sample Text- Hello my name is Data Science and my email address is xyz@domain.com and alternate email address is xyz.abc@sdomain.domain.com. \n",
    "Please contact us at hr@fliprobo.com for further information. \n",
    "Expected Output: \n",
    "['xyz@domain.com', 'xyz.abc@sdomain.domain.com']\n",
    "['hr@fliprobo.com']\n",
    "\n",
    "Note- Store given sample text in the text file and then extract email addresses.\n"
   ]
  },
  {
   "cell_type": "code",
   "execution_count": 14,
   "id": "ae841bf5",
   "metadata": {},
   "outputs": [
    {
     "name": "stdout",
     "output_type": "stream",
     "text": [
      "['xyz@domain.com', 'xyz.abc@sdomain.domain.com', 'hr@fliprobo.com']\n"
     ]
    }
   ],
   "source": [
    "with open('file1.txt', 'r') as file:\n",
    "    text = file.read()\n",
    "\n",
    "pattern = r'[a-zA-z0-9._%+-]+@[a-zA-z0-9.-]+\\.[a-zA-Z]{2,}'\n",
    "text = re.findall(pattern, text)\n",
    "\n",
    "print(text)"
   ]
  },
  {
   "cell_type": "markdown",
   "id": "4c66bfb2",
   "metadata": {},
   "source": [
    "Question 11- Write a Python program to match a string that contains only upper and lowercase letters, numbers, and underscores."
   ]
  },
  {
   "cell_type": "code",
   "execution_count": 15,
   "id": "a5d4c373",
   "metadata": {},
   "outputs": [
    {
     "name": "stdout",
     "output_type": "stream",
     "text": [
      "Not matched!\n",
      "Found a match!\n",
      "Not matched!\n"
     ]
    }
   ],
   "source": [
    "def txt_mth(text):\n",
    "    pattern = r'^[\\w]+$'\n",
    "    if re.search(pattern, text):\n",
    "        return 'Found a match!'\n",
    "    else:\n",
    "        return 'Not matched!'\n",
    "\n",
    "inp_str='The quick brown fox jumps over the lazy dog.'\n",
    "inp_str1='Python_Exercises_09'\n",
    "inp_str2=\"@@7_belongs_to_James_Bond\"\n",
    "print(txt_mth(inp_str))\n",
    "print(txt_mth(inp_str1))\n",
    "print(txt_mth(inp_str2))"
   ]
  },
  {
   "cell_type": "markdown",
   "id": "2da0be3b",
   "metadata": {},
   "source": [
    "Question 12- Write a Python program where a string will start with a specific number. "
   ]
  },
  {
   "cell_type": "code",
   "execution_count": 16,
   "id": "7b8c39b8",
   "metadata": {},
   "outputs": [
    {
     "name": "stdout",
     "output_type": "stream",
     "text": [
      "No match\n",
      "Matched\n",
      "Matched\n"
     ]
    }
   ],
   "source": [
    "def num_mth(text):\n",
    "    pattern=r\"^6\"\n",
    "    if re.search(pattern,text):\n",
    "        return \"Matched\"\n",
    "    else:\n",
    "        return\"No match\"\n",
    "inp_str=\"5 balls\"\n",
    "inp_str1=\"6 apples\"\n",
    "inp_str2=\"60 tigers\"\n",
    "\n",
    "print(num_mth(inp_str))\n",
    "print(num_mth(inp_str1))\n",
    "print(num_mth(inp_str2))"
   ]
  },
  {
   "cell_type": "markdown",
   "id": "e604a385",
   "metadata": {},
   "source": [
    "Question 13- Write a Python program to remove leading zeros from an IP address"
   ]
  },
  {
   "cell_type": "code",
   "execution_count": 17,
   "id": "5a718dc0",
   "metadata": {},
   "outputs": [
    {
     "data": {
      "text/plain": [
       "'1.255.5.200'"
      ]
     },
     "execution_count": 17,
     "metadata": {},
     "output_type": "execute_result"
    }
   ],
   "source": [
    "def remove_zero(ip_address):\n",
    "    pattern = re.compile(r\"\\b0+\")\n",
    "    result=pattern.sub(r\"\", ip_address)\n",
    "    return result\n",
    "\n",
    "ip_address = \"1.00255.005.200\"\n",
    "inp = remove_zero(ip_address)\n",
    "inp"
   ]
  },
  {
   "cell_type": "markdown",
   "id": "b2cb2378",
   "metadata": {},
   "source": [
    "Question 14- Write a regular expression in python to match a date string in the form of Month name followed by day number and year stored in a text file.\n",
    "Sample text :  ' On August 15th 1947 that India was declared independent from British colonialism, and the reins of control were handed over to the leaders of the Country’.\n",
    "Expected Output- August 15th 1947\n",
    "Note- Store given sample text in the text file and then extract the date string asked format.\n"
   ]
  },
  {
   "cell_type": "code",
   "execution_count": 18,
   "id": "c9a98a39",
   "metadata": {},
   "outputs": [
    {
     "name": "stdout",
     "output_type": "stream",
     "text": [
      "['August 15th 1947']\n"
     ]
    }
   ],
   "source": [
    "inp_str=\"On August 15th 1947 that India was declared independent from British colonialism, and the reins of control were handed over to the leaders of the Country.\"\n",
    "pattern = r\"(A[a-z]+ [0-9a-z]+ [0-9]+)\"\n",
    "result= re.findall(pattern, inp_str)\n",
    "print(result)"
   ]
  },
  {
   "cell_type": "code",
   "execution_count": 19,
   "id": "f64f076b",
   "metadata": {},
   "outputs": [
    {
     "name": "stdout",
     "output_type": "stream",
     "text": [
      "['August 15th 1947']\n"
     ]
    }
   ],
   "source": [
    "with open (\"file2.txt\",\"r\") as file:\n",
    "    text=file.read()\n",
    "    \n",
    "pattern=r\"(A[a-z]+\\s[0-9a-z]+\\s[0-9]+)\"\n",
    "dates=re.findall(pattern,text)\n",
    "print(dates)"
   ]
  },
  {
   "cell_type": "markdown",
   "id": "14bc8914",
   "metadata": {},
   "source": [
    "Question 15- Write a Python program to search some literals strings in a string. \n",
    "Sample text : 'The quick brown fox jumps over the lazy dog.'\n",
    "Searched words : 'fox', 'dog', 'horse'\n"
   ]
  },
  {
   "cell_type": "code",
   "execution_count": 20,
   "id": "7c00c47e",
   "metadata": {},
   "outputs": [
    {
     "name": "stdout",
     "output_type": "stream",
     "text": [
      "'fox'found.\n",
      "'dog'found.\n",
      "'horse'not found.\n"
     ]
    }
   ],
   "source": [
    "sample_text = 'The quick brown fox jumps over the lazy dog.'\n",
    "searched_words='fox', 'dog', 'horse'\n",
    "\n",
    "for word in searched_words:\n",
    "    pattern=re.compile(re.escape(word))\n",
    "    if pattern.search(sample_text):\n",
    "        print(f\"'{word}'found.\")\n",
    "    else:\n",
    "        print(f\"'{word}'not found.\")"
   ]
  },
  {
   "cell_type": "markdown",
   "id": "0424af79",
   "metadata": {},
   "source": [
    "Question 16- Write a Python program to search a literals string in a string and also find the location within the original string where the pattern occurs\n",
    "Sample text : 'The quick brown fox jumps over the lazy dog.'\n",
    "Searched words : 'fox'\n"
   ]
  },
  {
   "cell_type": "code",
   "execution_count": 21,
   "id": "1e03e438",
   "metadata": {},
   "outputs": [
    {
     "name": "stdout",
     "output_type": "stream",
     "text": [
      "<regex.Match object; span=(16, 19), match='fox'>\n",
      "fox\n",
      "(16, 19)\n"
     ]
    }
   ],
   "source": [
    "sample_text = 'The quick brown fox jumps over the lazy dog.'\n",
    "searched_words='fox'\n",
    "result=re.search(r\"f[a-z]+\",sample_text)\n",
    "print(result)\n",
    "print(result.group())\n",
    "print(result.span())"
   ]
  },
  {
   "cell_type": "markdown",
   "id": "cdb95ab6",
   "metadata": {},
   "source": [
    "Question 17- Write a Python program to find the substrings within a string.\n",
    "Sample text : 'Python exercises, PHP exercises, C# exercises'\n",
    "Pattern : 'exercises'.\n"
   ]
  },
  {
   "cell_type": "code",
   "execution_count": 22,
   "id": "107a8676",
   "metadata": {},
   "outputs": [
    {
     "name": "stdout",
     "output_type": "stream",
     "text": [
      "Occurance location: exercises (7, 16)\n",
      "Occurance location: exercises (22, 31)\n",
      "Occurance location: exercises (36, 45)\n"
     ]
    }
   ],
   "source": [
    "sample_text = 'Python exercises, PHP exercises, C# exercises'\n",
    "pattern = re.compile(\"exercises\")\n",
    "\n",
    "for match in pattern.finditer(sample_text):\n",
    "    print(\"Occurance location:\",match.group() , match.span())"
   ]
  },
  {
   "cell_type": "markdown",
   "id": "e518efaa",
   "metadata": {},
   "source": [
    "Question 18- Write a Python program to find the occurrence and position of the substrings within a string."
   ]
  },
  {
   "cell_type": "code",
   "execution_count": 23,
   "id": "87773660",
   "metadata": {},
   "outputs": [
    {
     "name": "stdout",
     "output_type": "stream",
     "text": [
      "Occurance: exercise :-> Location:(7, 15)\n",
      "Occurance: exercise :-> Location:(22, 30)\n",
      "Occurance: exercise :-> Location:(36, 44)\n"
     ]
    }
   ],
   "source": [
    "sample_text ='Python exercises, PHP exercises, C# exercises'\n",
    "pattern= re.compile(\"exercise\")\n",
    "\n",
    "for match in pattern.finditer(sample_text):\n",
    "    print(f\"Occurance: {match.group()} :-> Location:{match.span()}\")"
   ]
  },
  {
   "cell_type": "markdown",
   "id": "3b930b27",
   "metadata": {},
   "source": [
    "Question 19- Write a Python program to convert a date of yyyy-mm-dd format to dd-mm-yyyy format."
   ]
  },
  {
   "cell_type": "code",
   "execution_count": 24,
   "id": "b55a9bc4",
   "metadata": {},
   "outputs": [
    {
     "name": "stdout",
     "output_type": "stream",
     "text": [
      "14-04-2020\n"
     ]
    }
   ],
   "source": [
    "def convert_date(date):\n",
    "    pattern=re.compile(\"(\\d{4})-(\\d{2})-(\\d{2})\")\n",
    "    match=pattern.search(date)\n",
    "    if match:\n",
    "        day=match.group(3)\n",
    "        month=match.group(2)\n",
    "        year=match.group(1)\n",
    "        return f'{day}-{month}-{year}'\n",
    "date=\"2020-04-14\"\n",
    "final=convert_date(date)\n",
    "print(final)"
   ]
  },
  {
   "cell_type": "markdown",
   "id": "2b1e34d0",
   "metadata": {},
   "source": [
    "Question 20- Create a function in python to find all decimal numbers with a precision of 1 or 2 in a string. The use of the re.compile() method is mandatory.\n",
    "Sample Text: \"01.12 0132.123 2.31875 145.8 3.01 27.25 0.25\"\n",
    "Expected Output: ['01.12', '145.8', '3.01', '27.25', '0.25']\n"
   ]
  },
  {
   "cell_type": "code",
   "execution_count": 25,
   "id": "748bb263",
   "metadata": {},
   "outputs": [
    {
     "data": {
      "text/plain": [
       "['01.12', '145.8', '3.01', '27.25', '0.25']"
      ]
     },
     "execution_count": 25,
     "metadata": {},
     "output_type": "execute_result"
    }
   ],
   "source": [
    "sample_text=\"01.12 0132.123 2.31875 145.8 3.01 27.25 0.25\"\n",
    "pattern = re.compile(r\"\\d+\\.\\d{1,2}\\b\")\n",
    "result=pattern.findall(sample_text)\n",
    "result"
   ]
  },
  {
   "cell_type": "code",
   "execution_count": 26,
   "id": "96976d16",
   "metadata": {},
   "outputs": [
    {
     "name": "stdout",
     "output_type": "stream",
     "text": [
      "['01.12', '145.8', '3.01', '27.25', '0.25']\n"
     ]
    }
   ],
   "source": [
    "def dec_num(sample_text):\n",
    "    pattern =re.compile(r\"\\d+\\.\\d{1,2}\\b\")\n",
    "    result=pattern.findall(sample_text)\n",
    "    return result\n",
    "\n",
    "\n",
    "sample_text=\"01.12 0132.123 2.31875 145.8 3.01 27.25 0.25\"\n",
    "rst=dec_num(sample_text)\n",
    "print(rst)"
   ]
  },
  {
   "cell_type": "markdown",
   "id": "e711aa6d",
   "metadata": {},
   "source": [
    "Question 21- Write a Python program to separate and print the numbers and their position of a given string."
   ]
  },
  {
   "cell_type": "code",
   "execution_count": 27,
   "id": "f4735e17",
   "metadata": {},
   "outputs": [
    {
     "name": "stdout",
     "output_type": "stream",
     "text": [
      "Number:01.12   :-> ,  Position of the number:0\n",
      "Number:0132.123   :-> ,  Position of the number:6\n",
      "Number:2.31875   :-> ,  Position of the number:15\n",
      "Number:145.8   :-> ,  Position of the number:23\n",
      "Number:3.01   :-> ,  Position of the number:29\n",
      "Number:27.25   :-> ,  Position of the number:34\n",
      "Number:0.25   :-> ,  Position of the number:40\n",
      "None\n"
     ]
    }
   ],
   "source": [
    "text1 =\"01.12 0132.123 2.31875 145.8 3.01 27.25 0.25\"\n",
    "\n",
    "def sep_num(text):\n",
    "        for match in re.finditer(r\"\\d+(\\.\\d+)\",text):\n",
    "            print(f'Number:{match.group(0)}   :-> ,  Position of the number:{match.start()}')\n",
    "    \n",
    "result= sep_num(text1)\n",
    "print(result)"
   ]
  },
  {
   "cell_type": "markdown",
   "id": "62998cae",
   "metadata": {},
   "source": [
    "Question 22- Write a regular expression in python program to extract maximum/largest numeric value from a string.\n",
    "Sample Text:  'My marks in each semester are: 947, 896, 926, 524, 734, 950, 642'\n",
    "Expected Output: 950\n"
   ]
  },
  {
   "cell_type": "code",
   "execution_count": 28,
   "id": "82993770",
   "metadata": {},
   "outputs": [
    {
     "name": "stdout",
     "output_type": "stream",
     "text": [
      "The maximum mark is: 950\n"
     ]
    }
   ],
   "source": [
    "text= 'My marks in each semester are: 947, 896, 926, 524, 734,642'\n",
    "\n",
    "def max_num(text):\n",
    "    num_val=re.findall(r\"\\d+\",text)\n",
    "      \n",
    "    if num_val:\n",
    "        max_val=max(map(int, num_val))\n",
    "        return max_val\n",
    "    else:\n",
    "        return None  \n",
    "\n",
    "text= 'My marks in each semester are: 947, 896, 926, 524, 734,950,642'\n",
    "rslt = max_num(text)\n",
    "    \n",
    "if rslt is not None:\n",
    "    print(f\"The maximum mark is: {rslt}\")\n",
    "else:\n",
    "    print(\"No mark found.\")"
   ]
  },
  {
   "cell_type": "markdown",
   "id": "df324e2f",
   "metadata": {},
   "source": [
    "Question 23- Create a function in python to insert spaces between words starting with capital letters.\n",
    "Sample Text: “RegularExpressionIsAnImportantTopicInPython\"\n",
    "Expected Output: Regular Expression Is An Important Topic In Python\n"
   ]
  },
  {
   "cell_type": "code",
   "execution_count": 29,
   "id": "59f7d2b8",
   "metadata": {},
   "outputs": [
    {
     "name": "stdout",
     "output_type": "stream",
     "text": [
      " Regular Expression Is An Important Topic In Python\n"
     ]
    }
   ],
   "source": [
    "sample_text= \"RegularExpressionIsAnImportantTopicInPython\"\n",
    "pattern = r\"(?=[A-Z])\"\n",
    "result=re.sub(pattern, r\" \", sample_text)\n",
    "print(result)"
   ]
  },
  {
   "cell_type": "code",
   "execution_count": 30,
   "id": "d55e5f0b",
   "metadata": {},
   "outputs": [
    {
     "name": "stdout",
     "output_type": "stream",
     "text": [
      " Regular Expression Is An Important Topic In Python\n"
     ]
    }
   ],
   "source": [
    "def space(text):\n",
    "    pattern =re.compile(r\"(?=[A-Z])\")\n",
    "    sbt=pattern.sub(r\" \", text)\n",
    "    return sbt\n",
    "\n",
    "result =space(\"RegularExpressionIsAnImportantTopicInPython\")\n",
    "print(result)"
   ]
  },
  {
   "cell_type": "markdown",
   "id": "ad675ad9",
   "metadata": {},
   "source": [
    "Question 24- Python regex to find sequences of one upper case letter followed by lower case letters"
   ]
  },
  {
   "cell_type": "code",
   "execution_count": 31,
   "id": "42f08b6c",
   "metadata": {},
   "outputs": [
    {
     "name": "stdout",
     "output_type": "stream",
     "text": [
      "Sequences found: ['Regular', 'Expression', 'Is', 'An', 'Important', 'Topic', 'In', 'Python']\n",
      "None\n"
     ]
    }
   ],
   "source": [
    "def find_seq(text):\n",
    "    pattern = r'[A-Z][a-z]+'\n",
    "    matches = re.findall(pattern, text)\n",
    "    if matches:\n",
    "        print(f\"Sequences found: {matches}\")\n",
    "    else:\n",
    "        print(\"No sequences found.\")\n",
    "        \n",
    "text=\"RegularExpressionIsAnImportantTopicInPython\"\n",
    "result=find_seq(text)\n",
    "print(result)"
   ]
  },
  {
   "cell_type": "markdown",
   "id": "732b20d8",
   "metadata": {},
   "source": [
    "Question 25- Write a Python program to remove continuous duplicate words from Sentence using Regular Expression.\n",
    "Sample Text: \"Hello hello world world\"\n",
    "Expected Output: Hello hello world\n"
   ]
  },
  {
   "cell_type": "code",
   "execution_count": 32,
   "id": "ae2f7256",
   "metadata": {},
   "outputs": [
    {
     "name": "stdout",
     "output_type": "stream",
     "text": [
      "Hello hello world\n"
     ]
    }
   ],
   "source": [
    "sample_text = \"Hello hello world world\"\n",
    "pattern =r\"\\b(\\w+)(?:\\W+\\1\\b)+\"\n",
    "result=re.sub(pattern,r\"\\1\", sample_text)\n",
    "print(result)"
   ]
  },
  {
   "cell_type": "code",
   "execution_count": 33,
   "id": "ed225c90",
   "metadata": {},
   "outputs": [
    {
     "name": "stdout",
     "output_type": "stream",
     "text": [
      "Hello hello world\n"
     ]
    }
   ],
   "source": [
    "def duplicate(text):\n",
    "    pattern=r\"\\b(\\w+)(?:\\W+\\1\\b)+\"\n",
    "    result=re.sub(pattern,r\"\\1\", text)\n",
    "    return result\n",
    "\n",
    "x=duplicate(\"Hello hello world world\")\n",
    "print(x)"
   ]
  },
  {
   "cell_type": "markdown",
   "id": "53fc5635",
   "metadata": {},
   "source": [
    "Question 26-  Write a python program using RegEx to accept string ending with alphanumeric character."
   ]
  },
  {
   "cell_type": "code",
   "execution_count": 34,
   "id": "7bd5eb7e",
   "metadata": {},
   "outputs": [
    {
     "name": "stdout",
     "output_type": "stream",
     "text": [
      "Enter your input:I'm bond\n",
      "It is alphanumeric\n"
     ]
    }
   ],
   "source": [
    "sample_text=input(\"Enter your input:\")\n",
    "pattern=re.compile(r\"\\w+$\")\n",
    "\n",
    "if pattern.search(sample_text):\n",
    "    print(\"It is alphanumeric\")\n",
    "else:\n",
    "    print(\"Not an alphanumeric\")"
   ]
  },
  {
   "cell_type": "markdown",
   "id": "37ff0c23",
   "metadata": {},
   "source": [
    "Question 27-Write a python program using RegEx to extract the hashtags.\n",
    "Sample Text:  \"\"\"RT @kapil_kausik: #Doltiwal I mean #xyzabc is \"hurt\" by #Demonetization as the same has rendered USELESS <ed><U+00A0><U+00BD><ed><U+00B1><U+0089> \"acquired funds\" No wo\"\"\"\n",
    "Expected Output: ['#Doltiwal', '#xyzabc', '#Demonetization']\n"
   ]
  },
  {
   "cell_type": "code",
   "execution_count": 35,
   "id": "91c64b22",
   "metadata": {},
   "outputs": [
    {
     "name": "stdout",
     "output_type": "stream",
     "text": [
      "['#Doltiwal', '#xyzabc', '#Demonetization']\n"
     ]
    }
   ],
   "source": [
    "inp_str= \"\"\"RT @kapil_kausik: #Doltiwal I mean #xyzabc is \"hurt\" by #Demonetization as the same has rendered USELESS <U+00A0><U+00BD><U+00B1><U+0089> \"acquired funds\" No wo\"\"\"\n",
    "pattern = re.compile(\"\\#[A-Za-z]+\")\n",
    "result=pattern.findall(inp_str)\n",
    "print(result)"
   ]
  },
  {
   "cell_type": "code",
   "execution_count": 36,
   "id": "731e0c0d",
   "metadata": {},
   "outputs": [
    {
     "name": "stdout",
     "output_type": "stream",
     "text": [
      "['#Doltiwal', '#xyzabc', '#Demonetization']\n"
     ]
    }
   ],
   "source": [
    "def hashtag(text):\n",
    "    pattern = re.compile(\"\\#[A-Za-z]+\")\n",
    "    return pattern.findall(text)\n",
    "\n",
    "text =\"\"\"RT @kapil_kausik: #Doltiwal I mean #xyzabc is \"hurt\" by #Demonetization as the same has rendered USELESS <U+00A0><U+00BD><U+00B1><U+0089> \"acquired funds\" No wo\"\"\"\n",
    "result=hashtag(text)\n",
    "print(result)"
   ]
  },
  {
   "cell_type": "markdown",
   "id": "4c9adf36",
   "metadata": {},
   "source": [
    "Question 28- Write a python program using RegEx to remove <U+..> like symbols\n",
    "Check the below sample text, there are strange symbols something of the sort <U+..> all over the place. You need to come up with a general Regex expression that will cover all such symbols.\n",
    "Sample Text: \"@Jags123456 Bharat band on 28??<ed><U+00A0><U+00BD><ed><U+00B8><U+0082>Those who  are protesting #demonetization  are all different party leaders\"\n",
    "Expected Output: @Jags123456 Bharat band on 28??<ed><ed>Those who  are protesting #demonetization  are all different party leaders\n"
   ]
  },
  {
   "cell_type": "code",
   "execution_count": 37,
   "id": "ab555dc4",
   "metadata": {},
   "outputs": [
    {
     "name": "stdout",
     "output_type": "stream",
     "text": [
      "@Jags123456 Bharat band on 28??Those who are protesting #demonetization are all different party leaders\n"
     ]
    }
   ],
   "source": [
    "inp_str=\"@Jags123456 Bharat band on 28??<U+00A0><U+00BD><U+00B8><U+0082>Those who are protesting #demonetization are all different party leaders\"\n",
    "pattern=re.compile(\"<U\\+\\w{4}>\")\n",
    "result=pattern.sub(\"\", inp_str)\n",
    "print(result)"
   ]
  },
  {
   "cell_type": "markdown",
   "id": "dee79e84",
   "metadata": {},
   "source": [
    "Question 29- Write a python program to extract dates from the text stored in the text file.\n",
    "Sample Text: Ron was born on 12-09-1992 and he was admitted to school 15-12-1999.\n",
    "Note- Store this sample text in the file and then extract dates.\n"
   ]
  },
  {
   "cell_type": "code",
   "execution_count": 38,
   "id": "cded5319",
   "metadata": {},
   "outputs": [
    {
     "name": "stdout",
     "output_type": "stream",
     "text": [
      "['12-09-1992', '15-12-1999']\n"
     ]
    }
   ],
   "source": [
    "with open(\"smpf.txt\",\"r\") as file:\n",
    "    read=file.read()\n",
    "    \n",
    "dat=re.findall(r\"\\d{2}-\\d{2}-\\d{4}\", read)\n",
    "print(dat)"
   ]
  },
  {
   "cell_type": "markdown",
   "id": "e7e6a659",
   "metadata": {},
   "source": [
    "Question 30- Create a function in python to remove all words from a string of length between 2 and 4.\n",
    "The use of the re.compile() method is mandatory.\n",
    "Sample Text: \"The following example creates an ArrayList with a capacity of 50 elements. 4 elements are then added to the ArrayList and the ArrayList is trimmed accordingly.\"\n",
    "Expected Output:  following example creates ArrayList a capacity elements. 4 elements added ArrayList ArrayList trimmed accordingly.\n"
   ]
  },
  {
   "cell_type": "code",
   "execution_count": 39,
   "id": "e3cc39e3",
   "metadata": {},
   "outputs": [
    {
     "name": "stdout",
     "output_type": "stream",
     "text": [
      "  following example creates   ArrayList   a capacity     elements. 4 elements     added     ArrayList     ArrayList   trimmed accordingly.\n"
     ]
    }
   ],
   "source": [
    "sample_text = \"The following example creates an ArrayList with a capacity of 50 elements. 4 elements are then added to the ArrayList and the ArrayList is trimmed accordingly.\"\n",
    "pattern=re.compile(r\"\\b\\w{2,4}\\b\")\n",
    "final=pattern.sub(\" \",sample_text)\n",
    "print(final)"
   ]
  },
  {
   "cell_type": "code",
   "execution_count": 40,
   "id": "a68a115c",
   "metadata": {},
   "outputs": [
    {
     "name": "stdout",
     "output_type": "stream",
     "text": [
      "  following example creates   ArrayList   a capacity     elements. 4 elements     added     ArrayList     ArrayList   trimmed accordingly.\n"
     ]
    }
   ],
   "source": [
    "def remove_words(text):\n",
    "    pattern=re.compile(r\"\\b\\w{2,4}\\b\")\n",
    "    final=pattern.sub(\" \",text)\n",
    "    return final\n",
    "\n",
    "text=\"The following example creates an ArrayList with a capacity of 50 elements. 4 elements are then added to the ArrayList and the ArrayList is trimmed accordingly.\"\n",
    "last=remove_words(text)\n",
    "print(last)"
   ]
  },
  {
   "cell_type": "markdown",
   "id": "08f1a78f",
   "metadata": {},
   "source": [
    "                                            ***Assignment - Complete***"
   ]
  }
 ],
 "metadata": {
  "kernelspec": {
   "display_name": "Python 3 (ipykernel)",
   "language": "python",
   "name": "python3"
  },
  "language_info": {
   "codemirror_mode": {
    "name": "ipython",
    "version": 3
   },
   "file_extension": ".py",
   "mimetype": "text/x-python",
   "name": "python",
   "nbconvert_exporter": "python",
   "pygments_lexer": "ipython3",
   "version": "3.11.4"
  }
 },
 "nbformat": 4,
 "nbformat_minor": 5
}
